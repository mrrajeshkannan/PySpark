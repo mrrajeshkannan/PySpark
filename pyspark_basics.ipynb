{
 "cells": [
  {
   "cell_type": "markdown",
   "metadata": {
    "application/vnd.databricks.v1+cell": {
     "cellMetadata": {},
     "inputWidgets": {},
     "nuid": "fec91e1c-6f81-49dd-be61-9e1b4f020fb5",
     "showTitle": false,
     "tableResultSettingsMap": {},
     "title": ""
    }
   },
   "source": [
    "Basic To advanced PySpark query"
   ]
  },
  {
   "cell_type": "markdown",
   "metadata": {
    "application/vnd.databricks.v1+cell": {
     "cellMetadata": {},
     "inputWidgets": {},
     "nuid": "4c321960-8408-4d51-b34d-41f8ee2acaf7",
     "showTitle": false,
     "tableResultSettingsMap": {},
     "title": ""
    }
   },
   "source": [
    "# DATA READING  "
   ]
  },
  {
   "cell_type": "code",
   "execution_count": 0,
   "metadata": {
    "application/vnd.databricks.v1+cell": {
     "cellMetadata": {
      "byteLimit": 2048000,
      "implicitDf": true,
      "rowLimit": 10000
     },
     "inputWidgets": {},
     "nuid": "68951798-1121-4867-9834-02102c98d7e6",
     "showTitle": false,
     "tableResultSettingsMap": {},
     "title": ""
    }
   },
   "outputs": [
    {
     "output_type": "display_data",
     "data": {
      "text/html": [
       "<style scoped>\n",
       "  .table-result-container {\n",
       "    max-height: 300px;\n",
       "    overflow: auto;\n",
       "  }\n",
       "  table, th, td {\n",
       "    border: 1px solid black;\n",
       "    border-collapse: collapse;\n",
       "  }\n",
       "  th, td {\n",
       "    padding: 5px;\n",
       "  }\n",
       "  th {\n",
       "    text-align: left;\n",
       "  }\n",
       "</style><div class='table-result-container'><table class='table-result'><thead style='background-color: white'><tr><th>employee_id</th><th>first_name</th><th>last_name</th><th>email</th><th>phone_number</th><th>hire_date</th><th>job_id</th><th>salary</th><th>commission_pct</th><th>manager_id</th><th>department_id</th></tr></thead><tbody><tr><td>100</td><td>Steven</td><td>King</td><td>SKING</td><td>515.123.4567</td><td>2087-06-17</td><td>AD_PRES</td><td>25000</td><td>null</td><td>null</td><td>90</td></tr><tr><td>101</td><td>Neena</td><td>Kochhar</td><td>NKOCHHAR</td><td>515.123.4568</td><td>2089-09-21</td><td>AD_VP</td><td>17000</td><td>null</td><td>100</td><td>90</td></tr><tr><td>102</td><td>Lex</td><td>De Haan</td><td>LDEHAAN</td><td>515.123.4569</td><td>2093-01-13</td><td>AD_VP</td><td>17000</td><td>null</td><td>100</td><td>90</td></tr><tr><td>103</td><td>Alexander</td><td>Hunold</td><td>AHUNOLD</td><td>590.423.4567</td><td>2090-01-03</td><td>IT_PROG</td><td>9000</td><td>null</td><td>102</td><td>60</td></tr><tr><td>104</td><td>Bruce</td><td>Ernst</td><td>BERNST</td><td>590.423.4568</td><td>2091-05-21</td><td>IT_PROG</td><td>6000</td><td>null</td><td>103</td><td>60</td></tr><tr><td>105</td><td>David</td><td>Austin</td><td>DAUSTIN</td><td>590.423.4569</td><td>2097-06-25</td><td>IT_PROG</td><td>4800</td><td>null</td><td>103</td><td>60</td></tr><tr><td>106</td><td>Valli</td><td>Pataballa</td><td>VPATABAL</td><td>590.423.4560</td><td>2098-02-05</td><td>IT_PROG</td><td>4800</td><td>null</td><td>103</td><td>60</td></tr><tr><td>107</td><td>Diana</td><td>Lorentz</td><td>DLORENTZ</td><td>590.423.5567</td><td>2099-02-07</td><td>IT_PROG</td><td>4200</td><td>null</td><td>103</td><td>60</td></tr><tr><td>108</td><td>Nancy</td><td>Greenberg</td><td>NGREENBE</td><td>515.124.4569</td><td>2094-08-17</td><td>FI_MGR</td><td>12000</td><td>null</td><td>101</td><td>100</td></tr><tr><td>109</td><td>Daniel</td><td>Faviet</td><td>DFAVIET</td><td>515.124.4169</td><td>2094-08-16</td><td>FI_ACCOUNT</td><td>9000</td><td>null</td><td>108</td><td>100</td></tr><tr><td>110</td><td>John</td><td>Chen</td><td>JCHEN</td><td>515.124.4269</td><td>2097-09-28</td><td>FI_ACCOUNT</td><td>8200</td><td>null</td><td>108</td><td>100</td></tr><tr><td>111</td><td>Ismael</td><td>Sciarra</td><td>ISCIARRA</td><td>515.124.4369</td><td>2097-09-30</td><td>FI_ACCOUNT</td><td>7700</td><td>null</td><td>108</td><td>100</td></tr><tr><td>112</td><td>Jose Manuel</td><td>Urman</td><td>JMURMAN</td><td>515.124.4469</td><td>2098-03-07</td><td>FI_ACCOUNT</td><td>7800</td><td>null</td><td>108</td><td>100</td></tr><tr><td>113</td><td>Luis</td><td>Popp</td><td>LPOPP</td><td>515.124.4567</td><td>2099-12-07</td><td>FI_ACCOUNT</td><td>6900</td><td>null</td><td>108</td><td>100</td></tr><tr><td>114</td><td>Den</td><td>Raphaely</td><td>DRAPHEAL</td><td>515.127.4561</td><td>2094-12-07</td><td>PU_MAN</td><td>11000</td><td>null</td><td>100</td><td>30</td></tr><tr><td>115</td><td>Alexander</td><td>Khoo</td><td>AKHOO</td><td>515.127.4562</td><td>2095-05-18</td><td>PU_CLERK</td><td>3100</td><td>null</td><td>114</td><td>30</td></tr><tr><td>116</td><td>Shelli</td><td>Baida</td><td>SBAIDA</td><td>515.127.4563</td><td>2097-12-24</td><td>PU_CLERK</td><td>2900</td><td>null</td><td>114</td><td>30</td></tr><tr><td>117</td><td>Sigal</td><td>Tobias</td><td>STOBIAS</td><td>515.127.4564</td><td>2097-07-24</td><td>PU_CLERK</td><td>2800</td><td>null</td><td>114</td><td>30</td></tr><tr><td>118</td><td>Guy</td><td>Himuro</td><td>GHIMURO</td><td>515.127.4565</td><td>2098-11-15</td><td>PU_CLERK</td><td>2600</td><td>null</td><td>114</td><td>30</td></tr><tr><td>119</td><td>Karen</td><td>Colmenares</td><td>KCOLMENA</td><td>515.127.4566</td><td>2099-08-10</td><td>PU_CLERK</td><td>2500</td><td>null</td><td>114</td><td>30</td></tr><tr><td>120</td><td>Matthew</td><td>Weiss</td><td>MWEISS</td><td>650.123.1234</td><td>2096-07-18</td><td>ST_MAN</td><td>8000</td><td>null</td><td>100</td><td>50</td></tr><tr><td>121</td><td>Adam</td><td>Fripp</td><td>AFRIPP</td><td>650.123.2234</td><td>2097-04-10</td><td>ST_MAN</td><td>8200</td><td>null</td><td>100</td><td>50</td></tr><tr><td>122</td><td>Payam</td><td>Kaufling</td><td>PKAUFLIN</td><td>650.123.3234</td><td>2095-05-01</td><td>ST_MAN</td><td>7900</td><td>null</td><td>100</td><td>50</td></tr><tr><td>123</td><td>Shanta</td><td>Vollman</td><td>SVOLLMAN</td><td>650.123.4234</td><td>2097-10-10</td><td>ST_MAN</td><td>6500</td><td>null</td><td>100</td><td>50</td></tr><tr><td>124</td><td>Kevin</td><td>Mourgos</td><td>KMOURGOS</td><td>650.123.5234</td><td>2099-11-16</td><td>ST_MAN</td><td>5800</td><td>null</td><td>100</td><td>50</td></tr><tr><td>125</td><td>Julia</td><td>Nayer</td><td>JNAYER</td><td>650.124.1214</td><td>2097-07-16</td><td>ST_CLERK</td><td>3200</td><td>null</td><td>120</td><td>50</td></tr><tr><td>126</td><td>Irene</td><td>Mikkilineni</td><td>IMIKKILI</td><td>650.124.1224</td><td>2098-09-28</td><td>ST_CLERK</td><td>2700</td><td>null</td><td>120</td><td>50</td></tr><tr><td>127</td><td>James</td><td>Landry</td><td>JLANDRY</td><td>650.124.1334</td><td>2099-01-14</td><td>ST_CLERK</td><td>2400</td><td>null</td><td>120</td><td>50</td></tr><tr><td>128</td><td>Steven</td><td>Markle</td><td>SMARKLE</td><td>650.124.1434</td><td>2000-03-08</td><td>ST_CLERK</td><td>2200</td><td>null</td><td>120</td><td>50</td></tr><tr><td>129</td><td>Laura</td><td>Bissot</td><td>LBISSOT</td><td>650.124.5234</td><td>2097-08-20</td><td>ST_CLERK</td><td>3300</td><td>null</td><td>121</td><td>50</td></tr><tr><td>130</td><td>Mozhe</td><td>Atkinson</td><td>MATKINSO</td><td>650.124.6234</td><td>2097-10-30</td><td>ST_CLERK</td><td>2800</td><td>null</td><td>121</td><td>50</td></tr><tr><td>131</td><td>James</td><td>Marlow</td><td>JAMRLOW</td><td>650.124.7234</td><td>2097-02-16</td><td>ST_CLERK</td><td>2500</td><td>null</td><td>121</td><td>50</td></tr><tr><td>132</td><td>TJ</td><td>Olson</td><td>TJOLSON</td><td>650.124.8234</td><td>2099-04-10</td><td>ST_CLERK</td><td>2100</td><td>null</td><td>121</td><td>50</td></tr><tr><td>133</td><td>Jason</td><td>Mallin</td><td>JMALLIN</td><td>650.127.1934</td><td>2096-06-14</td><td>ST_CLERK</td><td>3300</td><td>null</td><td>122</td><td>50</td></tr><tr><td>134</td><td>Michael</td><td>Rogers</td><td>MROGERS</td><td>650.127.1834</td><td>2098-08-26</td><td>ST_CLERK</td><td>2900</td><td>null</td><td>122</td><td>50</td></tr><tr><td>135</td><td>Ki</td><td>Gee</td><td>KGEE</td><td>650.127.1734</td><td>2099-12-12</td><td>ST_CLERK</td><td>2400</td><td>null</td><td>122</td><td>50</td></tr><tr><td>136</td><td>Hazel</td><td>Philtanker</td><td>HPHILTAN</td><td>650.127.1634</td><td>2000-02-06</td><td>ST_CLERK</td><td>2200</td><td>null</td><td>122</td><td>50</td></tr><tr><td>137</td><td>Renske</td><td>Ladwig</td><td>RLADWIG</td><td>650.121.1234</td><td>2095-07-14</td><td>ST_CLERK</td><td>3600</td><td>null</td><td>123</td><td>50</td></tr><tr><td>138</td><td>Stephen</td><td>Stiles</td><td>SSTILES</td><td>650.121.2034</td><td>2097-10-26</td><td>ST_CLERK</td><td>3200</td><td>null</td><td>123</td><td>50</td></tr><tr><td>139</td><td>John</td><td>Seo</td><td>JSEO</td><td>650.121.2019</td><td>2098-02-12</td><td>ST_CLERK</td><td>2700</td><td>null</td><td>123</td><td>50</td></tr><tr><td>140</td><td>Joshua</td><td>Patel</td><td>JPATEL</td><td>650.121.1834</td><td>2098-04-06</td><td>ST_CLERK</td><td>2500</td><td>null</td><td>123</td><td>50</td></tr><tr><td>141</td><td>Trenna</td><td>Rajs</td><td>TRAJS</td><td>650.121.8009</td><td>2095-10-17</td><td>ST_CLERK</td><td>3500</td><td>null</td><td>124</td><td>50</td></tr><tr><td>142</td><td>Curtis</td><td>Davies</td><td>CDAVIES</td><td>650.121.2994</td><td>2097-01-29</td><td>ST_CLERK</td><td>3100</td><td>null</td><td>124</td><td>50</td></tr><tr><td>143</td><td>Randall</td><td>Matos</td><td>RMATOS</td><td>650.121.2874</td><td>2098-03-15</td><td>ST_CLERK</td><td>2600</td><td>null</td><td>124</td><td>50</td></tr><tr><td>144</td><td>Peter</td><td>Vargas</td><td>PVARGAS</td><td>650.121.2004</td><td>2098-07-09</td><td>ST_CLERK</td><td>2500</td><td>null</td><td>124</td><td>50</td></tr><tr><td>145</td><td>John</td><td>Russell</td><td>JRUSSEL</td><td>011.44.1344.429268</td><td>2096-10-01</td><td>SA_MAN</td><td>14000</td><td>0.4</td><td>100</td><td>80</td></tr><tr><td>146</td><td>Karen</td><td>Partners</td><td>KPARTNER</td><td>011.44.1344.467268</td><td>2097-01-05</td><td>SA_MAN</td><td>13500</td><td>0.3</td><td>100</td><td>80</td></tr><tr><td>147</td><td>Alberto</td><td>Errazuriz</td><td>AERRAZUR</td><td>011.44.1344.429278</td><td>2097-03-10</td><td>SA_MAN</td><td>12000</td><td>0.3</td><td>100</td><td>80</td></tr><tr><td>148</td><td>Gerald</td><td>Cambrault</td><td>GCAMBRAU</td><td>011.44.1344.619268</td><td>2099-10-15</td><td>SA_MAN</td><td>11000</td><td>0.3</td><td>100</td><td>80</td></tr><tr><td>149</td><td>Eleni</td><td>Zlotkey</td><td>EZLOTKEY</td><td>011.44.1344.429018</td><td>2000-01-29</td><td>SA_MAN</td><td>10500</td><td>0.2</td><td>100</td><td>80</td></tr><tr><td>150</td><td>Peter</td><td>Tucker</td><td>PTUCKER</td><td>011.44.1344.129268</td><td>2097-01-30</td><td>SA_REP</td><td>10000</td><td>0.3</td><td>145</td><td>80</td></tr><tr><td>151</td><td>David</td><td>Bernstein</td><td>DBERNSTE</td><td>011.44.1344.345268</td><td>2097-03-24</td><td>SA_REP</td><td>9500</td><td>0.25</td><td>145</td><td>80</td></tr><tr><td>152</td><td>Peter</td><td>Hall</td><td>PHALL</td><td>011.44.1344.478968</td><td>2097-08-20</td><td>SA_REP</td><td>9000</td><td>0.25</td><td>145</td><td>80</td></tr><tr><td>153</td><td>Christopher</td><td>Olsen</td><td>COLSEN</td><td>011.44.1344.498718</td><td>2098-03-30</td><td>SA_REP</td><td>8000</td><td>0.2</td><td>145</td><td>80</td></tr><tr><td>154</td><td>Nanette</td><td>Cambrault</td><td>NCAMBRAU</td><td>011.44.1344.987668</td><td>2098-12-09</td><td>SA_REP</td><td>7500</td><td>0.2</td><td>145</td><td>80</td></tr><tr><td>155</td><td>Oliver</td><td>Tuvault</td><td>OTUVAULT</td><td>011.44.1344.486508</td><td>2099-11-23</td><td>SA_REP</td><td>7000</td><td>0.15</td><td>145</td><td>80</td></tr><tr><td>156</td><td>Janette</td><td>King</td><td>JKING</td><td>011.44.1345.429268</td><td>2096-01-30</td><td>SA_REP</td><td>10000</td><td>0.35</td><td>146</td><td>80</td></tr><tr><td>157</td><td>Patrick</td><td>Sully</td><td>PSULLY</td><td>011.44.1345.929268</td><td>2096-03-04</td><td>SA_REP</td><td>9500</td><td>0.35</td><td>146</td><td>80</td></tr><tr><td>158</td><td>Allan</td><td>McEwen</td><td>AMCEWEN</td><td>011.44.1345.829268</td><td>2096-08-01</td><td>SA_REP</td><td>9000</td><td>0.35</td><td>146</td><td>80</td></tr><tr><td>159</td><td>Lindsey</td><td>Smith</td><td>LSMITH</td><td>011.44.1345.729268</td><td>2097-03-10</td><td>SA_REP</td><td>8000</td><td>0.3</td><td>146</td><td>80</td></tr><tr><td>160</td><td>Louise</td><td>Doran</td><td>LDORAN</td><td>011.44.1345.629268</td><td>2097-12-15</td><td>SA_REP</td><td>7500</td><td>0.3</td><td>146</td><td>80</td></tr><tr><td>161</td><td>Sarath</td><td>Sewall</td><td>SSEWALL</td><td>011.44.1345.529268</td><td>2098-11-03</td><td>SA_REP</td><td>7000</td><td>0.25</td><td>146</td><td>80</td></tr><tr><td>162</td><td>Clara</td><td>Vishney</td><td>CVISHNEY</td><td>011.44.1346.129268</td><td>2097-11-11</td><td>SA_REP</td><td>10500</td><td>0.25</td><td>147</td><td>80</td></tr><tr><td>163</td><td>Danielle</td><td>Greene</td><td>DGREENE</td><td>011.44.1346.229268</td><td>2099-03-19</td><td>SA_REP</td><td>9500</td><td>0.15</td><td>147</td><td>80</td></tr><tr><td>164</td><td>Mattea</td><td>Marvins</td><td>MMARVINS</td><td>011.44.1346.329268</td><td>2000-01-24</td><td>SA_REP</td><td>7200</td><td>0.1</td><td>147</td><td>80</td></tr><tr><td>165</td><td>David</td><td>Lee</td><td>DLEE</td><td>011.44.1346.529268</td><td>2000-02-23</td><td>SA_REP</td><td>6800</td><td>0.1</td><td>147</td><td>80</td></tr><tr><td>166</td><td>Sundar</td><td>Ande</td><td>SANDE</td><td>011.44.1346.629268</td><td>2000-03-24</td><td>SA_REP</td><td>6400</td><td>0.1</td><td>147</td><td>80</td></tr><tr><td>167</td><td>Amit</td><td>Banda</td><td>ABANDA</td><td>011.44.1346.729268</td><td>2000-04-21</td><td>SA_REP</td><td>6200</td><td>0.1</td><td>147</td><td>80</td></tr><tr><td>168</td><td>Lisa</td><td>Ozer</td><td>LOZER</td><td>011.44.1343.929268</td><td>2097-03-11</td><td>SA_REP</td><td>11500</td><td>0.25</td><td>148</td><td>80</td></tr><tr><td>169</td><td>Harrison</td><td>Bloom</td><td>HBLOOM</td><td>011.44.1343.829268</td><td>2098-03-23</td><td>SA_REP</td><td>10000</td><td>0.2</td><td>148</td><td>80</td></tr><tr><td>170</td><td>Tayler</td><td>Fox</td><td>TFOX</td><td>011.44.1343.729268</td><td>2098-01-24</td><td>SA_REP</td><td>9600</td><td>0.2</td><td>148</td><td>80</td></tr><tr><td>171</td><td>William</td><td>Smith</td><td>WSMITH</td><td>011.44.1343.629268</td><td>2099-02-23</td><td>SA_REP</td><td>7400</td><td>0.15</td><td>148</td><td>80</td></tr><tr><td>172</td><td>Elizabeth</td><td>Bates</td><td>EBATES</td><td>011.44.1343.529268</td><td>2099-03-24</td><td>SA_REP</td><td>7300</td><td>0.15</td><td>148</td><td>80</td></tr><tr><td>173</td><td>Sundita</td><td>Kumar</td><td>SKUMAR</td><td>011.44.1343.329268</td><td>2000-04-21</td><td>SA_REP</td><td>6100</td><td>0.1</td><td>148</td><td>80</td></tr><tr><td>174</td><td>Ellen</td><td>Abel</td><td>EABEL</td><td>011.44.1644.429267</td><td>2096-05-11</td><td>SA_REP</td><td>11000</td><td>0.3</td><td>149</td><td>80</td></tr><tr><td>175</td><td>Alyssa</td><td>Hutton</td><td>AHUTTON</td><td>011.44.1644.429266</td><td>2097-03-19</td><td>SA_REP</td><td>8800</td><td>0.25</td><td>149</td><td>80</td></tr><tr><td>176</td><td>Jonathon</td><td>Taylor</td><td>JTAYLOR</td><td>011.44.1644.429265</td><td>2098-03-24</td><td>SA_REP</td><td>8600</td><td>0.2</td><td>149</td><td>80</td></tr><tr><td>177</td><td>Jack</td><td>Livingston</td><td>JLIVINGS</td><td>011.44.1644.429264</td><td>2098-04-23</td><td>SA_REP</td><td>8400</td><td>0.2</td><td>149</td><td>80</td></tr><tr><td>178</td><td>Kimberely</td><td>Grant</td><td>KGRANT</td><td>011.44.1644.429263</td><td>2099-05-24</td><td>SA_REP</td><td>7000</td><td>0.15</td><td>149</td><td>null</td></tr><tr><td>179</td><td>Charles</td><td>Johnson</td><td>CJOHNSON</td><td>011.44.1644.429262</td><td>2000-01-04</td><td>SA_REP</td><td>6200</td><td>0.1</td><td>149</td><td>80</td></tr><tr><td>180</td><td>Winston</td><td>Taylor</td><td>WTAYLOR</td><td>650.507.9876</td><td>2098-01-24</td><td>SH_CLERK</td><td>3200</td><td>null</td><td>120</td><td>50</td></tr><tr><td>181</td><td>Jean</td><td>Fleaur</td><td>JFLEAUR</td><td>650.507.9877</td><td>2098-02-23</td><td>SH_CLERK</td><td>3100</td><td>null</td><td>120</td><td>50</td></tr><tr><td>182</td><td>Martha</td><td>Sullivan</td><td>MSULLIVA</td><td>650.507.9878</td><td>2099-06-21</td><td>SH_CLERK</td><td>2500</td><td>null</td><td>120</td><td>50</td></tr><tr><td>183</td><td>Girard</td><td>Geoni</td><td>GGEONI</td><td>650.507.9879</td><td>2000-02-03</td><td>SH_CLERK</td><td>2800</td><td>null</td><td>120</td><td>50</td></tr><tr><td>184</td><td>Nandita</td><td>Sarchand</td><td>NSARCHAN</td><td>650.509.1876</td><td>2096-01-27</td><td>SH_CLERK</td><td>4200</td><td>null</td><td>121</td><td>50</td></tr><tr><td>185</td><td>Alexis</td><td>Bull</td><td>ABULL</td><td>650.509.2876</td><td>2097-02-20</td><td>SH_CLERK</td><td>4100</td><td>null</td><td>121</td><td>50</td></tr><tr><td>186</td><td>Julia</td><td>Dellinger</td><td>JDELLING</td><td>650.509.3876</td><td>2098-06-24</td><td>SH_CLERK</td><td>3400</td><td>null</td><td>121</td><td>50</td></tr><tr><td>187</td><td>Anthony</td><td>Cabrio</td><td>ACABRIO</td><td>650.509.4876</td><td>2099-02-07</td><td>SH_CLERK</td><td>3000</td><td>null</td><td>121</td><td>50</td></tr><tr><td>188</td><td>Kelly</td><td>Chung</td><td>KCHUNG</td><td>650.505.1876</td><td>2097-06-14</td><td>SH_CLERK</td><td>3800</td><td>null</td><td>122</td><td>50</td></tr><tr><td>189</td><td>Jennifer</td><td>Dilly</td><td>JDILLY</td><td>650.505.2876</td><td>2097-08-13</td><td>SH_CLERK</td><td>3600</td><td>null</td><td>122</td><td>50</td></tr><tr><td>190</td><td>Timothy</td><td>Gates</td><td>TGATES</td><td>650.505.3876</td><td>2098-07-11</td><td>SH_CLERK</td><td>2900</td><td>null</td><td>122</td><td>50</td></tr><tr><td>191</td><td>Randall</td><td>Perkins</td><td>RPERKINS</td><td>650.505.4876</td><td>2099-12-19</td><td>SH_CLERK</td><td>2500</td><td>null</td><td>122</td><td>50</td></tr><tr><td>192</td><td>Sarah</td><td>Bell</td><td>SBELL</td><td>650.501.1876</td><td>2096-02-04</td><td>SH_CLERK</td><td>4000</td><td>null</td><td>123</td><td>50</td></tr><tr><td>193</td><td>Britney</td><td>Everett</td><td>BEVERETT</td><td>650.501.2876</td><td>2097-03-03</td><td>SH_CLERK</td><td>3900</td><td>null</td><td>123</td><td>50</td></tr><tr><td>194</td><td>Samuel</td><td>McCain</td><td>SMCCAIN</td><td>650.501.3876</td><td>2098-07-01</td><td>SH_CLERK</td><td>3200</td><td>null</td><td>123</td><td>50</td></tr><tr><td>195</td><td>Vance</td><td>Jones</td><td>VJONES</td><td>650.501.4876</td><td>2099-03-17</td><td>SH_CLERK</td><td>2800</td><td>null</td><td>123</td><td>50</td></tr><tr><td>196</td><td>Alana</td><td>Walsh</td><td>AWALSH</td><td>650.507.9811</td><td>2098-04-24</td><td>SH_CLERK</td><td>3100</td><td>null</td><td>124</td><td>50</td></tr><tr><td>197</td><td>Kevin</td><td>Feeney</td><td>KFEENEY</td><td>650.507.9822</td><td>2098-05-23</td><td>SH_CLERK</td><td>3000</td><td>null</td><td>124</td><td>50</td></tr><tr><td>198</td><td>Donald</td><td>OConnell</td><td>DOCONNEL</td><td>650.507.9833</td><td>2099-06-21</td><td>SH_CLERK</td><td>2600</td><td>null</td><td>124</td><td>50</td></tr><tr><td>199</td><td>Douglas</td><td>Grant</td><td>DGRANT</td><td>650.507.9844</td><td>2000-01-13</td><td>SH_CLERK</td><td>2600</td><td>null</td><td>124</td><td>50</td></tr><tr><td>200</td><td>Jennifer</td><td>Whalen</td><td>JWHALEN</td><td>515.123.4444</td><td>2087-09-17</td><td>AD_ASST</td><td>4400</td><td>null</td><td>101</td><td>10</td></tr><tr><td>201</td><td>Michael</td><td>Hartstein</td><td>MHARTSTE</td><td>515.123.5555</td><td>2096-02-17</td><td>MK_MAN</td><td>13000</td><td>null</td><td>100</td><td>20</td></tr><tr><td>202</td><td>Pat</td><td>Fay</td><td>PFAY</td><td>603.123.6666</td><td>2097-08-17</td><td>MK_REP</td><td>6000</td><td>null</td><td>201</td><td>20</td></tr><tr><td>203</td><td>Susan</td><td>Mavris</td><td>SMAVRIS</td><td>515.123.7777</td><td>2094-06-07</td><td>HR_REP</td><td>6500</td><td>null</td><td>101</td><td>40</td></tr><tr><td>204</td><td>Hermann</td><td>Baer</td><td>HBAER</td><td>515.123.8888</td><td>2094-06-07</td><td>PR_REP</td><td>10000</td><td>null</td><td>101</td><td>70</td></tr><tr><td>205</td><td>Shelley</td><td>Higgins</td><td>SHIGGINS</td><td>515.123.8080</td><td>2094-06-07</td><td>AC_MGR</td><td>12000</td><td>null</td><td>101</td><td>110</td></tr><tr><td>206</td><td>William</td><td>Gietz</td><td>WGIETZ</td><td>51hr5.123.8181</td><td>2094-06-07</td><td>AC_ACCOUNT</td><td>8300</td><td>null</td><td>205</td><td>110</td></tr></tbody></table></div>"
      ]
     },
     "metadata": {
      "application/vnd.databricks.v1+output": {
       "addedWidgets": {},
       "aggData": [],
       "aggError": "",
       "aggOverflow": false,
       "aggSchema": [],
       "aggSeriesLimitReached": false,
       "aggType": "",
       "arguments": {},
       "columnCustomDisplayInfos": {},
       "data": [
        [
         100,
         "Steven",
         "King",
         "SKING",
         "515.123.4567",
         "2087-06-17",
         "AD_PRES",
         25000,
         null,
         null,
         90
        ],
        [
         101,
         "Neena",
         "Kochhar",
         "NKOCHHAR",
         "515.123.4568",
         "2089-09-21",
         "AD_VP",
         17000,
         null,
         100,
         90
        ],
        [
         102,
         "Lex",
         "De Haan",
         "LDEHAAN",
         "515.123.4569",
         "2093-01-13",
         "AD_VP",
         17000,
         null,
         100,
         90
        ],
        [
         103,
         "Alexander",
         "Hunold",
         "AHUNOLD",
         "590.423.4567",
         "2090-01-03",
         "IT_PROG",
         9000,
         null,
         102,
         60
        ],
        [
         104,
         "Bruce",
         "Ernst",
         "BERNST",
         "590.423.4568",
         "2091-05-21",
         "IT_PROG",
         6000,
         null,
         103,
         60
        ],
        [
         105,
         "David",
         "Austin",
         "DAUSTIN",
         "590.423.4569",
         "2097-06-25",
         "IT_PROG",
         4800,
         null,
         103,
         60
        ],
        [
         106,
         "Valli",
         "Pataballa",
         "VPATABAL",
         "590.423.4560",
         "2098-02-05",
         "IT_PROG",
         4800,
         null,
         103,
         60
        ],
        [
         107,
         "Diana",
         "Lorentz",
         "DLORENTZ",
         "590.423.5567",
         "2099-02-07",
         "IT_PROG",
         4200,
         null,
         103,
         60
        ],
        [
         108,
         "Nancy",
         "Greenberg",
         "NGREENBE",
         "515.124.4569",
         "2094-08-17",
         "FI_MGR",
         12000,
         null,
         101,
         100
        ],
        [
         109,
         "Daniel",
         "Faviet",
         "DFAVIET",
         "515.124.4169",
         "2094-08-16",
         "FI_ACCOUNT",
         9000,
         null,
         108,
         100
        ],
        [
         110,
         "John",
         "Chen",
         "JCHEN",
         "515.124.4269",
         "2097-09-28",
         "FI_ACCOUNT",
         8200,
         null,
         108,
         100
        ],
        [
         111,
         "Ismael",
         "Sciarra",
         "ISCIARRA",
         "515.124.4369",
         "2097-09-30",
         "FI_ACCOUNT",
         7700,
         null,
         108,
         100
        ],
        [
         112,
         "Jose Manuel",
         "Urman",
         "JMURMAN",
         "515.124.4469",
         "2098-03-07",
         "FI_ACCOUNT",
         7800,
         null,
         108,
         100
        ],
        [
         113,
         "Luis",
         "Popp",
         "LPOPP",
         "515.124.4567",
         "2099-12-07",
         "FI_ACCOUNT",
         6900,
         null,
         108,
         100
        ],
        [
         114,
         "Den",
         "Raphaely",
         "DRAPHEAL",
         "515.127.4561",
         "2094-12-07",
         "PU_MAN",
         11000,
         null,
         100,
         30
        ],
        [
         115,
         "Alexander",
         "Khoo",
         "AKHOO",
         "515.127.4562",
         "2095-05-18",
         "PU_CLERK",
         3100,
         null,
         114,
         30
        ],
        [
         116,
         "Shelli",
         "Baida",
         "SBAIDA",
         "515.127.4563",
         "2097-12-24",
         "PU_CLERK",
         2900,
         null,
         114,
         30
        ],
        [
         117,
         "Sigal",
         "Tobias",
         "STOBIAS",
         "515.127.4564",
         "2097-07-24",
         "PU_CLERK",
         2800,
         null,
         114,
         30
        ],
        [
         118,
         "Guy",
         "Himuro",
         "GHIMURO",
         "515.127.4565",
         "2098-11-15",
         "PU_CLERK",
         2600,
         null,
         114,
         30
        ],
        [
         119,
         "Karen",
         "Colmenares",
         "KCOLMENA",
         "515.127.4566",
         "2099-08-10",
         "PU_CLERK",
         2500,
         null,
         114,
         30
        ],
        [
         120,
         "Matthew",
         "Weiss",
         "MWEISS",
         "650.123.1234",
         "2096-07-18",
         "ST_MAN",
         8000,
         null,
         100,
         50
        ],
        [
         121,
         "Adam",
         "Fripp",
         "AFRIPP",
         "650.123.2234",
         "2097-04-10",
         "ST_MAN",
         8200,
         null,
         100,
         50
        ],
        [
         122,
         "Payam",
         "Kaufling",
         "PKAUFLIN",
         "650.123.3234",
         "2095-05-01",
         "ST_MAN",
         7900,
         null,
         100,
         50
        ],
        [
         123,
         "Shanta",
         "Vollman",
         "SVOLLMAN",
         "650.123.4234",
         "2097-10-10",
         "ST_MAN",
         6500,
         null,
         100,
         50
        ],
        [
         124,
         "Kevin",
         "Mourgos",
         "KMOURGOS",
         "650.123.5234",
         "2099-11-16",
         "ST_MAN",
         5800,
         null,
         100,
         50
        ],
        [
         125,
         "Julia",
         "Nayer",
         "JNAYER",
         "650.124.1214",
         "2097-07-16",
         "ST_CLERK",
         3200,
         null,
         120,
         50
        ],
        [
         126,
         "Irene",
         "Mikkilineni",
         "IMIKKILI",
         "650.124.1224",
         "2098-09-28",
         "ST_CLERK",
         2700,
         null,
         120,
         50
        ],
        [
         127,
         "James",
         "Landry",
         "JLANDRY",
         "650.124.1334",
         "2099-01-14",
         "ST_CLERK",
         2400,
         null,
         120,
         50
        ],
        [
         128,
         "Steven",
         "Markle",
         "SMARKLE",
         "650.124.1434",
         "2000-03-08",
         "ST_CLERK",
         2200,
         null,
         120,
         50
        ],
        [
         129,
         "Laura",
         "Bissot",
         "LBISSOT",
         "650.124.5234",
         "2097-08-20",
         "ST_CLERK",
         3300,
         null,
         121,
         50
        ],
        [
         130,
         "Mozhe",
         "Atkinson",
         "MATKINSO",
         "650.124.6234",
         "2097-10-30",
         "ST_CLERK",
         2800,
         null,
         121,
         50
        ],
        [
         131,
         "James",
         "Marlow",
         "JAMRLOW",
         "650.124.7234",
         "2097-02-16",
         "ST_CLERK",
         2500,
         null,
         121,
         50
        ],
        [
         132,
         "TJ",
         "Olson",
         "TJOLSON",
         "650.124.8234",
         "2099-04-10",
         "ST_CLERK",
         2100,
         null,
         121,
         50
        ],
        [
         133,
         "Jason",
         "Mallin",
         "JMALLIN",
         "650.127.1934",
         "2096-06-14",
         "ST_CLERK",
         3300,
         null,
         122,
         50
        ],
        [
         134,
         "Michael",
         "Rogers",
         "MROGERS",
         "650.127.1834",
         "2098-08-26",
         "ST_CLERK",
         2900,
         null,
         122,
         50
        ],
        [
         135,
         "Ki",
         "Gee",
         "KGEE",
         "650.127.1734",
         "2099-12-12",
         "ST_CLERK",
         2400,
         null,
         122,
         50
        ],
        [
         136,
         "Hazel",
         "Philtanker",
         "HPHILTAN",
         "650.127.1634",
         "2000-02-06",
         "ST_CLERK",
         2200,
         null,
         122,
         50
        ],
        [
         137,
         "Renske",
         "Ladwig",
         "RLADWIG",
         "650.121.1234",
         "2095-07-14",
         "ST_CLERK",
         3600,
         null,
         123,
         50
        ],
        [
         138,
         "Stephen",
         "Stiles",
         "SSTILES",
         "650.121.2034",
         "2097-10-26",
         "ST_CLERK",
         3200,
         null,
         123,
         50
        ],
        [
         139,
         "John",
         "Seo",
         "JSEO",
         "650.121.2019",
         "2098-02-12",
         "ST_CLERK",
         2700,
         null,
         123,
         50
        ],
        [
         140,
         "Joshua",
         "Patel",
         "JPATEL",
         "650.121.1834",
         "2098-04-06",
         "ST_CLERK",
         2500,
         null,
         123,
         50
        ],
        [
         141,
         "Trenna",
         "Rajs",
         "TRAJS",
         "650.121.8009",
         "2095-10-17",
         "ST_CLERK",
         3500,
         null,
         124,
         50
        ],
        [
         142,
         "Curtis",
         "Davies",
         "CDAVIES",
         "650.121.2994",
         "2097-01-29",
         "ST_CLERK",
         3100,
         null,
         124,
         50
        ],
        [
         143,
         "Randall",
         "Matos",
         "RMATOS",
         "650.121.2874",
         "2098-03-15",
         "ST_CLERK",
         2600,
         null,
         124,
         50
        ],
        [
         144,
         "Peter",
         "Vargas",
         "PVARGAS",
         "650.121.2004",
         "2098-07-09",
         "ST_CLERK",
         2500,
         null,
         124,
         50
        ],
        [
         145,
         "John",
         "Russell",
         "JRUSSEL",
         "011.44.1344.429268",
         "2096-10-01",
         "SA_MAN",
         14000,
         0.4,
         100,
         80
        ],
        [
         146,
         "Karen",
         "Partners",
         "KPARTNER",
         "011.44.1344.467268",
         "2097-01-05",
         "SA_MAN",
         13500,
         0.3,
         100,
         80
        ],
        [
         147,
         "Alberto",
         "Errazuriz",
         "AERRAZUR",
         "011.44.1344.429278",
         "2097-03-10",
         "SA_MAN",
         12000,
         0.3,
         100,
         80
        ],
        [
         148,
         "Gerald",
         "Cambrault",
         "GCAMBRAU",
         "011.44.1344.619268",
         "2099-10-15",
         "SA_MAN",
         11000,
         0.3,
         100,
         80
        ],
        [
         149,
         "Eleni",
         "Zlotkey",
         "EZLOTKEY",
         "011.44.1344.429018",
         "2000-01-29",
         "SA_MAN",
         10500,
         0.2,
         100,
         80
        ],
        [
         150,
         "Peter",
         "Tucker",
         "PTUCKER",
         "011.44.1344.129268",
         "2097-01-30",
         "SA_REP",
         10000,
         0.3,
         145,
         80
        ],
        [
         151,
         "David",
         "Bernstein",
         "DBERNSTE",
         "011.44.1344.345268",
         "2097-03-24",
         "SA_REP",
         9500,
         0.25,
         145,
         80
        ],
        [
         152,
         "Peter",
         "Hall",
         "PHALL",
         "011.44.1344.478968",
         "2097-08-20",
         "SA_REP",
         9000,
         0.25,
         145,
         80
        ],
        [
         153,
         "Christopher",
         "Olsen",
         "COLSEN",
         "011.44.1344.498718",
         "2098-03-30",
         "SA_REP",
         8000,
         0.2,
         145,
         80
        ],
        [
         154,
         "Nanette",
         "Cambrault",
         "NCAMBRAU",
         "011.44.1344.987668",
         "2098-12-09",
         "SA_REP",
         7500,
         0.2,
         145,
         80
        ],
        [
         155,
         "Oliver",
         "Tuvault",
         "OTUVAULT",
         "011.44.1344.486508",
         "2099-11-23",
         "SA_REP",
         7000,
         0.15,
         145,
         80
        ],
        [
         156,
         "Janette",
         "King",
         "JKING",
         "011.44.1345.429268",
         "2096-01-30",
         "SA_REP",
         10000,
         0.35,
         146,
         80
        ],
        [
         157,
         "Patrick",
         "Sully",
         "PSULLY",
         "011.44.1345.929268",
         "2096-03-04",
         "SA_REP",
         9500,
         0.35,
         146,
         80
        ],
        [
         158,
         "Allan",
         "McEwen",
         "AMCEWEN",
         "011.44.1345.829268",
         "2096-08-01",
         "SA_REP",
         9000,
         0.35,
         146,
         80
        ],
        [
         159,
         "Lindsey",
         "Smith",
         "LSMITH",
         "011.44.1345.729268",
         "2097-03-10",
         "SA_REP",
         8000,
         0.3,
         146,
         80
        ],
        [
         160,
         "Louise",
         "Doran",
         "LDORAN",
         "011.44.1345.629268",
         "2097-12-15",
         "SA_REP",
         7500,
         0.3,
         146,
         80
        ],
        [
         161,
         "Sarath",
         "Sewall",
         "SSEWALL",
         "011.44.1345.529268",
         "2098-11-03",
         "SA_REP",
         7000,
         0.25,
         146,
         80
        ],
        [
         162,
         "Clara",
         "Vishney",
         "CVISHNEY",
         "011.44.1346.129268",
         "2097-11-11",
         "SA_REP",
         10500,
         0.25,
         147,
         80
        ],
        [
         163,
         "Danielle",
         "Greene",
         "DGREENE",
         "011.44.1346.229268",
         "2099-03-19",
         "SA_REP",
         9500,
         0.15,
         147,
         80
        ],
        [
         164,
         "Mattea",
         "Marvins",
         "MMARVINS",
         "011.44.1346.329268",
         "2000-01-24",
         "SA_REP",
         7200,
         0.1,
         147,
         80
        ],
        [
         165,
         "David",
         "Lee",
         "DLEE",
         "011.44.1346.529268",
         "2000-02-23",
         "SA_REP",
         6800,
         0.1,
         147,
         80
        ],
        [
         166,
         "Sundar",
         "Ande",
         "SANDE",
         "011.44.1346.629268",
         "2000-03-24",
         "SA_REP",
         6400,
         0.1,
         147,
         80
        ],
        [
         167,
         "Amit",
         "Banda",
         "ABANDA",
         "011.44.1346.729268",
         "2000-04-21",
         "SA_REP",
         6200,
         0.1,
         147,
         80
        ],
        [
         168,
         "Lisa",
         "Ozer",
         "LOZER",
         "011.44.1343.929268",
         "2097-03-11",
         "SA_REP",
         11500,
         0.25,
         148,
         80
        ],
        [
         169,
         "Harrison",
         "Bloom",
         "HBLOOM",
         "011.44.1343.829268",
         "2098-03-23",
         "SA_REP",
         10000,
         0.2,
         148,
         80
        ],
        [
         170,
         "Tayler",
         "Fox",
         "TFOX",
         "011.44.1343.729268",
         "2098-01-24",
         "SA_REP",
         9600,
         0.2,
         148,
         80
        ],
        [
         171,
         "William",
         "Smith",
         "WSMITH",
         "011.44.1343.629268",
         "2099-02-23",
         "SA_REP",
         7400,
         0.15,
         148,
         80
        ],
        [
         172,
         "Elizabeth",
         "Bates",
         "EBATES",
         "011.44.1343.529268",
         "2099-03-24",
         "SA_REP",
         7300,
         0.15,
         148,
         80
        ],
        [
         173,
         "Sundita",
         "Kumar",
         "SKUMAR",
         "011.44.1343.329268",
         "2000-04-21",
         "SA_REP",
         6100,
         0.1,
         148,
         80
        ],
        [
         174,
         "Ellen",
         "Abel",
         "EABEL",
         "011.44.1644.429267",
         "2096-05-11",
         "SA_REP",
         11000,
         0.3,
         149,
         80
        ],
        [
         175,
         "Alyssa",
         "Hutton",
         "AHUTTON",
         "011.44.1644.429266",
         "2097-03-19",
         "SA_REP",
         8800,
         0.25,
         149,
         80
        ],
        [
         176,
         "Jonathon",
         "Taylor",
         "JTAYLOR",
         "011.44.1644.429265",
         "2098-03-24",
         "SA_REP",
         8600,
         0.2,
         149,
         80
        ],
        [
         177,
         "Jack",
         "Livingston",
         "JLIVINGS",
         "011.44.1644.429264",
         "2098-04-23",
         "SA_REP",
         8400,
         0.2,
         149,
         80
        ],
        [
         178,
         "Kimberely",
         "Grant",
         "KGRANT",
         "011.44.1644.429263",
         "2099-05-24",
         "SA_REP",
         7000,
         0.15,
         149,
         null
        ],
        [
         179,
         "Charles",
         "Johnson",
         "CJOHNSON",
         "011.44.1644.429262",
         "2000-01-04",
         "SA_REP",
         6200,
         0.1,
         149,
         80
        ],
        [
         180,
         "Winston",
         "Taylor",
         "WTAYLOR",
         "650.507.9876",
         "2098-01-24",
         "SH_CLERK",
         3200,
         null,
         120,
         50
        ],
        [
         181,
         "Jean",
         "Fleaur",
         "JFLEAUR",
         "650.507.9877",
         "2098-02-23",
         "SH_CLERK",
         3100,
         null,
         120,
         50
        ],
        [
         182,
         "Martha",
         "Sullivan",
         "MSULLIVA",
         "650.507.9878",
         "2099-06-21",
         "SH_CLERK",
         2500,
         null,
         120,
         50
        ],
        [
         183,
         "Girard",
         "Geoni",
         "GGEONI",
         "650.507.9879",
         "2000-02-03",
         "SH_CLERK",
         2800,
         null,
         120,
         50
        ],
        [
         184,
         "Nandita",
         "Sarchand",
         "NSARCHAN",
         "650.509.1876",
         "2096-01-27",
         "SH_CLERK",
         4200,
         null,
         121,
         50
        ],
        [
         185,
         "Alexis",
         "Bull",
         "ABULL",
         "650.509.2876",
         "2097-02-20",
         "SH_CLERK",
         4100,
         null,
         121,
         50
        ],
        [
         186,
         "Julia",
         "Dellinger",
         "JDELLING",
         "650.509.3876",
         "2098-06-24",
         "SH_CLERK",
         3400,
         null,
         121,
         50
        ],
        [
         187,
         "Anthony",
         "Cabrio",
         "ACABRIO",
         "650.509.4876",
         "2099-02-07",
         "SH_CLERK",
         3000,
         null,
         121,
         50
        ],
        [
         188,
         "Kelly",
         "Chung",
         "KCHUNG",
         "650.505.1876",
         "2097-06-14",
         "SH_CLERK",
         3800,
         null,
         122,
         50
        ],
        [
         189,
         "Jennifer",
         "Dilly",
         "JDILLY",
         "650.505.2876",
         "2097-08-13",
         "SH_CLERK",
         3600,
         null,
         122,
         50
        ],
        [
         190,
         "Timothy",
         "Gates",
         "TGATES",
         "650.505.3876",
         "2098-07-11",
         "SH_CLERK",
         2900,
         null,
         122,
         50
        ],
        [
         191,
         "Randall",
         "Perkins",
         "RPERKINS",
         "650.505.4876",
         "2099-12-19",
         "SH_CLERK",
         2500,
         null,
         122,
         50
        ],
        [
         192,
         "Sarah",
         "Bell",
         "SBELL",
         "650.501.1876",
         "2096-02-04",
         "SH_CLERK",
         4000,
         null,
         123,
         50
        ],
        [
         193,
         "Britney",
         "Everett",
         "BEVERETT",
         "650.501.2876",
         "2097-03-03",
         "SH_CLERK",
         3900,
         null,
         123,
         50
        ],
        [
         194,
         "Samuel",
         "McCain",
         "SMCCAIN",
         "650.501.3876",
         "2098-07-01",
         "SH_CLERK",
         3200,
         null,
         123,
         50
        ],
        [
         195,
         "Vance",
         "Jones",
         "VJONES",
         "650.501.4876",
         "2099-03-17",
         "SH_CLERK",
         2800,
         null,
         123,
         50
        ],
        [
         196,
         "Alana",
         "Walsh",
         "AWALSH",
         "650.507.9811",
         "2098-04-24",
         "SH_CLERK",
         3100,
         null,
         124,
         50
        ],
        [
         197,
         "Kevin",
         "Feeney",
         "KFEENEY",
         "650.507.9822",
         "2098-05-23",
         "SH_CLERK",
         3000,
         null,
         124,
         50
        ],
        [
         198,
         "Donald",
         "OConnell",
         "DOCONNEL",
         "650.507.9833",
         "2099-06-21",
         "SH_CLERK",
         2600,
         null,
         124,
         50
        ],
        [
         199,
         "Douglas",
         "Grant",
         "DGRANT",
         "650.507.9844",
         "2000-01-13",
         "SH_CLERK",
         2600,
         null,
         124,
         50
        ],
        [
         200,
         "Jennifer",
         "Whalen",
         "JWHALEN",
         "515.123.4444",
         "2087-09-17",
         "AD_ASST",
         4400,
         null,
         101,
         10
        ],
        [
         201,
         "Michael",
         "Hartstein",
         "MHARTSTE",
         "515.123.5555",
         "2096-02-17",
         "MK_MAN",
         13000,
         null,
         100,
         20
        ],
        [
         202,
         "Pat",
         "Fay",
         "PFAY",
         "603.123.6666",
         "2097-08-17",
         "MK_REP",
         6000,
         null,
         201,
         20
        ],
        [
         203,
         "Susan",
         "Mavris",
         "SMAVRIS",
         "515.123.7777",
         "2094-06-07",
         "HR_REP",
         6500,
         null,
         101,
         40
        ],
        [
         204,
         "Hermann",
         "Baer",
         "HBAER",
         "515.123.8888",
         "2094-06-07",
         "PR_REP",
         10000,
         null,
         101,
         70
        ],
        [
         205,
         "Shelley",
         "Higgins",
         "SHIGGINS",
         "515.123.8080",
         "2094-06-07",
         "AC_MGR",
         12000,
         null,
         101,
         110
        ],
        [
         206,
         "William",
         "Gietz",
         "WGIETZ",
         "51hr5.123.8181",
         "2094-06-07",
         "AC_ACCOUNT",
         8300,
         null,
         205,
         110
        ]
       ],
       "datasetInfos": [],
       "dbfsResultPath": null,
       "isJsonSchema": true,
       "metadata": {},
       "overflow": false,
       "plotOptions": {
        "customPlotOptions": {},
        "displayType": "table",
        "pivotAggregation": null,
        "pivotColumns": null,
        "xColumns": null,
        "yColumns": null
       },
       "removedWidgets": [],
       "schema": [
        {
         "metadata": "{}",
         "name": "employee_id",
         "type": "\"integer\""
        },
        {
         "metadata": "{}",
         "name": "first_name",
         "type": "\"string\""
        },
        {
         "metadata": "{}",
         "name": "last_name",
         "type": "\"string\""
        },
        {
         "metadata": "{}",
         "name": "email",
         "type": "\"string\""
        },
        {
         "metadata": "{}",
         "name": "phone_number",
         "type": "\"string\""
        },
        {
         "metadata": "{\"__detected_date_formats\":\"d/M/yy\"}",
         "name": "hire_date",
         "type": "\"date\""
        },
        {
         "metadata": "{}",
         "name": "job_id",
         "type": "\"string\""
        },
        {
         "metadata": "{}",
         "name": "salary",
         "type": "\"integer\""
        },
        {
         "metadata": "{}",
         "name": "commission_pct",
         "type": "\"double\""
        },
        {
         "metadata": "{}",
         "name": "manager_id",
         "type": "\"integer\""
        },
        {
         "metadata": "{}",
         "name": "department_id",
         "type": "\"integer\""
        }
       ],
       "type": "table"
      }
     },
     "output_type": "display_data"
    }
   ],
   "source": [
    "# Read Data from CSV:\n",
    "df_csv = spark.read.csv('/FileStore/tables/employees.csv',inferSchema=True, header=True) \n",
    "display(df_csv)  # or df_csv.display()\n",
    "\n",
    "# inferSchema means auto identify the data type in CSV / Json file.\n",
    "\n",
    "# same as json \n",
    "#df_json = spark.read.json('/FileStore/tables/employees.json',inferSchema=True, header=True)"
   ]
  },
  {
   "cell_type": "markdown",
   "metadata": {
    "application/vnd.databricks.v1+cell": {
     "cellMetadata": {},
     "inputWidgets": {},
     "nuid": "393f036e-59d2-4ec5-9780-41c872719065",
     "showTitle": false,
     "tableResultSettingsMap": {},
     "title": ""
    }
   },
   "source": [
    "## Data Reading Utils"
   ]
  },
  {
   "cell_type": "code",
   "execution_count": 0,
   "metadata": {
    "application/vnd.databricks.v1+cell": {
     "cellMetadata": {
      "byteLimit": 2048000,
      "rowLimit": 10000
     },
     "inputWidgets": {},
     "nuid": "a0df3031-2af5-4d33-9b3c-09d467255a28",
     "showTitle": false,
     "tableResultSettingsMap": {},
     "title": ""
    }
   },
   "outputs": [
    {
     "output_type": "stream",
     "name": "stdout",
     "output_type": "stream",
     "text": [
      "Out[6]: [FileInfo(path='dbfs:/FileStore/tables/departments.csv', name='departments.csv', size=687, modificationTime=1738674464000),\n FileInfo(path='dbfs:/FileStore/tables/emp.json', name='emp.json', size=752, modificationTime=1739564468000),\n FileInfo(path='dbfs:/FileStore/tables/employees.csv', name='employees.csv', size=7920, modificationTime=1738674451000)]"
     ]
    }
   ],
   "source": [
    "# Csv/Json uploaded locatations in Data bricks\n",
    "dbutils.fs.ls('dbfs:/FileStore/tables/')"
   ]
  },
  {
   "cell_type": "markdown",
   "metadata": {
    "application/vnd.databricks.v1+cell": {
     "cellMetadata": {},
     "inputWidgets": {},
     "nuid": "2db4ec9c-ab42-4cbb-bd6a-7fe207b60163",
     "showTitle": false,
     "tableResultSettingsMap": {},
     "title": ""
    }
   },
   "source": [
    "**Delete a File in locatation**"
   ]
  },
  {
   "cell_type": "code",
   "execution_count": 0,
   "metadata": {
    "application/vnd.databricks.v1+cell": {
     "cellMetadata": {
      "byteLimit": 2048000,
      "rowLimit": 10000
     },
     "inputWidgets": {},
     "nuid": "3e3b349a-2b7f-4256-b826-f9553f335a47",
     "showTitle": false,
     "tableResultSettingsMap": {},
     "title": ""
    }
   },
   "outputs": [
    {
     "output_type": "stream",
     "name": "stdout",
     "output_type": "stream",
     "text": [
      "Out[5]: True"
     ]
    }
   ],
   "source": [
    "#Delete a Single File\n",
    "dbutils.fs.rm(\"dbfs:/FileStore/tables/employees-1.csv\")\n",
    "\n",
    "\n",
    "#Delete All Files in the Folder\n",
    "#dbutils.fs.rm(\"dbfs:/FileStore/tables/\", recurse=True)   #The recurse=True flag ensures all files in the folder are deleted.\n"
   ]
  },
  {
   "cell_type": "markdown",
   "metadata": {
    "application/vnd.databricks.v1+cell": {
     "cellMetadata": {},
     "inputWidgets": {},
     "nuid": "a1c5abb4-9aed-4074-9536-5f0181a98687",
     "showTitle": false,
     "tableResultSettingsMap": {},
     "title": ""
    }
   },
   "source": [
    "**Schema** **Definition**"
   ]
  },
  {
   "cell_type": "code",
   "execution_count": 0,
   "metadata": {
    "application/vnd.databricks.v1+cell": {
     "cellMetadata": {
      "byteLimit": 2048000,
      "rowLimit": 10000
     },
     "inputWidgets": {},
     "nuid": "429d35fb-25ce-4bfd-a469-c258e8933cdd",
     "showTitle": false,
     "tableResultSettingsMap": {},
     "title": ""
    }
   },
   "outputs": [
    {
     "output_type": "stream",
     "name": "stdout",
     "output_type": "stream",
     "text": [
      "root\n |-- employee_id: integer (nullable = true)\n |-- first_name: string (nullable = true)\n |-- last_name: string (nullable = true)\n |-- email: string (nullable = true)\n |-- phone_number: string (nullable = true)\n |-- hire_date: date (nullable = true)\n |-- job_id: string (nullable = true)\n |-- salary: integer (nullable = true)\n |-- commission_pct: double (nullable = true)\n |-- manager_id: integer (nullable = true)\n |-- department_id: integer (nullable = true)\n\n"
     ]
    }
   ],
   "source": [
    "\n",
    "# print the description of table / Scheme\n",
    "df_csv.printSchema()"
   ]
  },
  {
   "cell_type": "code",
   "execution_count": 0,
   "metadata": {
    "application/vnd.databricks.v1+cell": {
     "cellMetadata": {
      "byteLimit": 2048000,
      "implicitDf": true,
      "rowLimit": 10000
     },
     "inputWidgets": {},
     "nuid": "10f9a4ec-bae3-4f5c-a886-eb9992b1ff3a",
     "showTitle": false,
     "tableResultSettingsMap": {},
     "title": ""
    }
   },
   "outputs": [
    {
     "output_type": "display_data",
     "data": {
      "text/html": [
       "<style scoped>\n",
       "  .table-result-container {\n",
       "    max-height: 300px;\n",
       "    overflow: auto;\n",
       "  }\n",
       "  table, th, td {\n",
       "    border: 1px solid black;\n",
       "    border-collapse: collapse;\n",
       "  }\n",
       "  th, td {\n",
       "    padding: 5px;\n",
       "  }\n",
       "  th {\n",
       "    text-align: left;\n",
       "  }\n",
       "</style><div class='table-result-container'><table class='table-result'><thead style='background-color: white'><tr><th>employee_id</th><th>first_name</th><th>last_name</th><th>email</th><th>phone_number</th><th>hire_date</th><th>job_id</th><th>salary</th><th>commission_pct</th><th>manager_id</th><th>department_id</th></tr></thead><tbody><tr><td>132</td><td>TJ</td><td>Olson</td><td>TJOLSON</td><td>650.124.8234</td><td>2099-04-10</td><td>ST_CLERK</td><td>2100</td><td>null</td><td>121</td><td>50</td></tr><tr><td>128</td><td>Steven</td><td>Markle</td><td>SMARKLE</td><td>650.124.1434</td><td>2000-03-08</td><td>ST_CLERK</td><td>2200</td><td>null</td><td>120</td><td>50</td></tr><tr><td>136</td><td>Hazel</td><td>Philtanker</td><td>HPHILTAN</td><td>650.127.1634</td><td>2000-02-06</td><td>ST_CLERK</td><td>2200</td><td>null</td><td>122</td><td>50</td></tr><tr><td>127</td><td>James</td><td>Landry</td><td>JLANDRY</td><td>650.124.1334</td><td>2099-01-14</td><td>ST_CLERK</td><td>2400</td><td>null</td><td>120</td><td>50</td></tr><tr><td>135</td><td>Ki</td><td>Gee</td><td>KGEE</td><td>650.127.1734</td><td>2099-12-12</td><td>ST_CLERK</td><td>2400</td><td>null</td><td>122</td><td>50</td></tr><tr><td>119</td><td>Karen</td><td>Colmenares</td><td>KCOLMENA</td><td>515.127.4566</td><td>2099-08-10</td><td>PU_CLERK</td><td>2500</td><td>null</td><td>114</td><td>30</td></tr><tr><td>131</td><td>James</td><td>Marlow</td><td>JAMRLOW</td><td>650.124.7234</td><td>2097-02-16</td><td>ST_CLERK</td><td>2500</td><td>null</td><td>121</td><td>50</td></tr><tr><td>140</td><td>Joshua</td><td>Patel</td><td>JPATEL</td><td>650.121.1834</td><td>2098-04-06</td><td>ST_CLERK</td><td>2500</td><td>null</td><td>123</td><td>50</td></tr><tr><td>144</td><td>Peter</td><td>Vargas</td><td>PVARGAS</td><td>650.121.2004</td><td>2098-07-09</td><td>ST_CLERK</td><td>2500</td><td>null</td><td>124</td><td>50</td></tr><tr><td>182</td><td>Martha</td><td>Sullivan</td><td>MSULLIVA</td><td>650.507.9878</td><td>2099-06-21</td><td>SH_CLERK</td><td>2500</td><td>null</td><td>120</td><td>50</td></tr><tr><td>191</td><td>Randall</td><td>Perkins</td><td>RPERKINS</td><td>650.505.4876</td><td>2099-12-19</td><td>SH_CLERK</td><td>2500</td><td>null</td><td>122</td><td>50</td></tr><tr><td>118</td><td>Guy</td><td>Himuro</td><td>GHIMURO</td><td>515.127.4565</td><td>2098-11-15</td><td>PU_CLERK</td><td>2600</td><td>null</td><td>114</td><td>30</td></tr><tr><td>143</td><td>Randall</td><td>Matos</td><td>RMATOS</td><td>650.121.2874</td><td>2098-03-15</td><td>ST_CLERK</td><td>2600</td><td>null</td><td>124</td><td>50</td></tr><tr><td>198</td><td>Donald</td><td>OConnell</td><td>DOCONNEL</td><td>650.507.9833</td><td>2099-06-21</td><td>SH_CLERK</td><td>2600</td><td>null</td><td>124</td><td>50</td></tr><tr><td>199</td><td>Douglas</td><td>Grant</td><td>DGRANT</td><td>650.507.9844</td><td>2000-01-13</td><td>SH_CLERK</td><td>2600</td><td>null</td><td>124</td><td>50</td></tr><tr><td>126</td><td>Irene</td><td>Mikkilineni</td><td>IMIKKILI</td><td>650.124.1224</td><td>2098-09-28</td><td>ST_CLERK</td><td>2700</td><td>null</td><td>120</td><td>50</td></tr><tr><td>139</td><td>John</td><td>Seo</td><td>JSEO</td><td>650.121.2019</td><td>2098-02-12</td><td>ST_CLERK</td><td>2700</td><td>null</td><td>123</td><td>50</td></tr><tr><td>117</td><td>Sigal</td><td>Tobias</td><td>STOBIAS</td><td>515.127.4564</td><td>2097-07-24</td><td>PU_CLERK</td><td>2800</td><td>null</td><td>114</td><td>30</td></tr><tr><td>130</td><td>Mozhe</td><td>Atkinson</td><td>MATKINSO</td><td>650.124.6234</td><td>2097-10-30</td><td>ST_CLERK</td><td>2800</td><td>null</td><td>121</td><td>50</td></tr><tr><td>183</td><td>Girard</td><td>Geoni</td><td>GGEONI</td><td>650.507.9879</td><td>2000-02-03</td><td>SH_CLERK</td><td>2800</td><td>null</td><td>120</td><td>50</td></tr><tr><td>195</td><td>Vance</td><td>Jones</td><td>VJONES</td><td>650.501.4876</td><td>2099-03-17</td><td>SH_CLERK</td><td>2800</td><td>null</td><td>123</td><td>50</td></tr><tr><td>116</td><td>Shelli</td><td>Baida</td><td>SBAIDA</td><td>515.127.4563</td><td>2097-12-24</td><td>PU_CLERK</td><td>2900</td><td>null</td><td>114</td><td>30</td></tr><tr><td>134</td><td>Michael</td><td>Rogers</td><td>MROGERS</td><td>650.127.1834</td><td>2098-08-26</td><td>ST_CLERK</td><td>2900</td><td>null</td><td>122</td><td>50</td></tr><tr><td>190</td><td>Timothy</td><td>Gates</td><td>TGATES</td><td>650.505.3876</td><td>2098-07-11</td><td>SH_CLERK</td><td>2900</td><td>null</td><td>122</td><td>50</td></tr><tr><td>187</td><td>Anthony</td><td>Cabrio</td><td>ACABRIO</td><td>650.509.4876</td><td>2099-02-07</td><td>SH_CLERK</td><td>3000</td><td>null</td><td>121</td><td>50</td></tr><tr><td>197</td><td>Kevin</td><td>Feeney</td><td>KFEENEY</td><td>650.507.9822</td><td>2098-05-23</td><td>SH_CLERK</td><td>3000</td><td>null</td><td>124</td><td>50</td></tr><tr><td>115</td><td>Alexander</td><td>Khoo</td><td>AKHOO</td><td>515.127.4562</td><td>2095-05-18</td><td>PU_CLERK</td><td>3100</td><td>null</td><td>114</td><td>30</td></tr><tr><td>142</td><td>Curtis</td><td>Davies</td><td>CDAVIES</td><td>650.121.2994</td><td>2097-01-29</td><td>ST_CLERK</td><td>3100</td><td>null</td><td>124</td><td>50</td></tr><tr><td>181</td><td>Jean</td><td>Fleaur</td><td>JFLEAUR</td><td>650.507.9877</td><td>2098-02-23</td><td>SH_CLERK</td><td>3100</td><td>null</td><td>120</td><td>50</td></tr><tr><td>196</td><td>Alana</td><td>Walsh</td><td>AWALSH</td><td>650.507.9811</td><td>2098-04-24</td><td>SH_CLERK</td><td>3100</td><td>null</td><td>124</td><td>50</td></tr><tr><td>125</td><td>Julia</td><td>Nayer</td><td>JNAYER</td><td>650.124.1214</td><td>2097-07-16</td><td>ST_CLERK</td><td>3200</td><td>null</td><td>120</td><td>50</td></tr><tr><td>138</td><td>Stephen</td><td>Stiles</td><td>SSTILES</td><td>650.121.2034</td><td>2097-10-26</td><td>ST_CLERK</td><td>3200</td><td>null</td><td>123</td><td>50</td></tr><tr><td>180</td><td>Winston</td><td>Taylor</td><td>WTAYLOR</td><td>650.507.9876</td><td>2098-01-24</td><td>SH_CLERK</td><td>3200</td><td>null</td><td>120</td><td>50</td></tr><tr><td>194</td><td>Samuel</td><td>McCain</td><td>SMCCAIN</td><td>650.501.3876</td><td>2098-07-01</td><td>SH_CLERK</td><td>3200</td><td>null</td><td>123</td><td>50</td></tr><tr><td>129</td><td>Laura</td><td>Bissot</td><td>LBISSOT</td><td>650.124.5234</td><td>2097-08-20</td><td>ST_CLERK</td><td>3300</td><td>null</td><td>121</td><td>50</td></tr><tr><td>133</td><td>Jason</td><td>Mallin</td><td>JMALLIN</td><td>650.127.1934</td><td>2096-06-14</td><td>ST_CLERK</td><td>3300</td><td>null</td><td>122</td><td>50</td></tr><tr><td>186</td><td>Julia</td><td>Dellinger</td><td>JDELLING</td><td>650.509.3876</td><td>2098-06-24</td><td>SH_CLERK</td><td>3400</td><td>null</td><td>121</td><td>50</td></tr><tr><td>141</td><td>Trenna</td><td>Rajs</td><td>TRAJS</td><td>650.121.8009</td><td>2095-10-17</td><td>ST_CLERK</td><td>3500</td><td>null</td><td>124</td><td>50</td></tr><tr><td>137</td><td>Renske</td><td>Ladwig</td><td>RLADWIG</td><td>650.121.1234</td><td>2095-07-14</td><td>ST_CLERK</td><td>3600</td><td>null</td><td>123</td><td>50</td></tr><tr><td>189</td><td>Jennifer</td><td>Dilly</td><td>JDILLY</td><td>650.505.2876</td><td>2097-08-13</td><td>SH_CLERK</td><td>3600</td><td>null</td><td>122</td><td>50</td></tr><tr><td>188</td><td>Kelly</td><td>Chung</td><td>KCHUNG</td><td>650.505.1876</td><td>2097-06-14</td><td>SH_CLERK</td><td>3800</td><td>null</td><td>122</td><td>50</td></tr><tr><td>193</td><td>Britney</td><td>Everett</td><td>BEVERETT</td><td>650.501.2876</td><td>2097-03-03</td><td>SH_CLERK</td><td>3900</td><td>null</td><td>123</td><td>50</td></tr><tr><td>192</td><td>Sarah</td><td>Bell</td><td>SBELL</td><td>650.501.1876</td><td>2096-02-04</td><td>SH_CLERK</td><td>4000</td><td>null</td><td>123</td><td>50</td></tr><tr><td>185</td><td>Alexis</td><td>Bull</td><td>ABULL</td><td>650.509.2876</td><td>2097-02-20</td><td>SH_CLERK</td><td>4100</td><td>null</td><td>121</td><td>50</td></tr><tr><td>107</td><td>Diana</td><td>Lorentz</td><td>DLORENTZ</td><td>590.423.5567</td><td>2099-02-07</td><td>IT_PROG</td><td>4200</td><td>null</td><td>103</td><td>60</td></tr><tr><td>184</td><td>Nandita</td><td>Sarchand</td><td>NSARCHAN</td><td>650.509.1876</td><td>2096-01-27</td><td>SH_CLERK</td><td>4200</td><td>null</td><td>121</td><td>50</td></tr><tr><td>200</td><td>Jennifer</td><td>Whalen</td><td>JWHALEN</td><td>515.123.4444</td><td>2087-09-17</td><td>AD_ASST</td><td>4400</td><td>null</td><td>101</td><td>10</td></tr><tr><td>105</td><td>David</td><td>Austin</td><td>DAUSTIN</td><td>590.423.4569</td><td>2097-06-25</td><td>IT_PROG</td><td>4800</td><td>null</td><td>103</td><td>60</td></tr><tr><td>106</td><td>Valli</td><td>Pataballa</td><td>VPATABAL</td><td>590.423.4560</td><td>2098-02-05</td><td>IT_PROG</td><td>4800</td><td>null</td><td>103</td><td>60</td></tr><tr><td>124</td><td>Kevin</td><td>Mourgos</td><td>KMOURGOS</td><td>650.123.5234</td><td>2099-11-16</td><td>ST_MAN</td><td>5800</td><td>null</td><td>100</td><td>50</td></tr><tr><td>104</td><td>Bruce</td><td>Ernst</td><td>BERNST</td><td>590.423.4568</td><td>2091-05-21</td><td>IT_PROG</td><td>6000</td><td>null</td><td>103</td><td>60</td></tr><tr><td>202</td><td>Pat</td><td>Fay</td><td>PFAY</td><td>603.123.6666</td><td>2097-08-17</td><td>MK_REP</td><td>6000</td><td>null</td><td>201</td><td>20</td></tr><tr><td>173</td><td>Sundita</td><td>Kumar</td><td>SKUMAR</td><td>011.44.1343.329268</td><td>2000-04-21</td><td>SA_REP</td><td>6100</td><td>0.1</td><td>148</td><td>80</td></tr><tr><td>167</td><td>Amit</td><td>Banda</td><td>ABANDA</td><td>011.44.1346.729268</td><td>2000-04-21</td><td>SA_REP</td><td>6200</td><td>0.1</td><td>147</td><td>80</td></tr><tr><td>179</td><td>Charles</td><td>Johnson</td><td>CJOHNSON</td><td>011.44.1644.429262</td><td>2000-01-04</td><td>SA_REP</td><td>6200</td><td>0.1</td><td>149</td><td>80</td></tr><tr><td>166</td><td>Sundar</td><td>Ande</td><td>SANDE</td><td>011.44.1346.629268</td><td>2000-03-24</td><td>SA_REP</td><td>6400</td><td>0.1</td><td>147</td><td>80</td></tr><tr><td>123</td><td>Shanta</td><td>Vollman</td><td>SVOLLMAN</td><td>650.123.4234</td><td>2097-10-10</td><td>ST_MAN</td><td>6500</td><td>null</td><td>100</td><td>50</td></tr><tr><td>203</td><td>Susan</td><td>Mavris</td><td>SMAVRIS</td><td>515.123.7777</td><td>2094-06-07</td><td>HR_REP</td><td>6500</td><td>null</td><td>101</td><td>40</td></tr><tr><td>165</td><td>David</td><td>Lee</td><td>DLEE</td><td>011.44.1346.529268</td><td>2000-02-23</td><td>SA_REP</td><td>6800</td><td>0.1</td><td>147</td><td>80</td></tr><tr><td>113</td><td>Luis</td><td>Popp</td><td>LPOPP</td><td>515.124.4567</td><td>2099-12-07</td><td>FI_ACCOUNT</td><td>6900</td><td>null</td><td>108</td><td>100</td></tr><tr><td>155</td><td>Oliver</td><td>Tuvault</td><td>OTUVAULT</td><td>011.44.1344.486508</td><td>2099-11-23</td><td>SA_REP</td><td>7000</td><td>0.15</td><td>145</td><td>80</td></tr><tr><td>161</td><td>Sarath</td><td>Sewall</td><td>SSEWALL</td><td>011.44.1345.529268</td><td>2098-11-03</td><td>SA_REP</td><td>7000</td><td>0.25</td><td>146</td><td>80</td></tr><tr><td>178</td><td>Kimberely</td><td>Grant</td><td>KGRANT</td><td>011.44.1644.429263</td><td>2099-05-24</td><td>SA_REP</td><td>7000</td><td>0.15</td><td>149</td><td>null</td></tr><tr><td>164</td><td>Mattea</td><td>Marvins</td><td>MMARVINS</td><td>011.44.1346.329268</td><td>2000-01-24</td><td>SA_REP</td><td>7200</td><td>0.1</td><td>147</td><td>80</td></tr><tr><td>172</td><td>Elizabeth</td><td>Bates</td><td>EBATES</td><td>011.44.1343.529268</td><td>2099-03-24</td><td>SA_REP</td><td>7300</td><td>0.15</td><td>148</td><td>80</td></tr><tr><td>171</td><td>William</td><td>Smith</td><td>WSMITH</td><td>011.44.1343.629268</td><td>2099-02-23</td><td>SA_REP</td><td>7400</td><td>0.15</td><td>148</td><td>80</td></tr><tr><td>154</td><td>Nanette</td><td>Cambrault</td><td>NCAMBRAU</td><td>011.44.1344.987668</td><td>2098-12-09</td><td>SA_REP</td><td>7500</td><td>0.2</td><td>145</td><td>80</td></tr><tr><td>160</td><td>Louise</td><td>Doran</td><td>LDORAN</td><td>011.44.1345.629268</td><td>2097-12-15</td><td>SA_REP</td><td>7500</td><td>0.3</td><td>146</td><td>80</td></tr><tr><td>111</td><td>Ismael</td><td>Sciarra</td><td>ISCIARRA</td><td>515.124.4369</td><td>2097-09-30</td><td>FI_ACCOUNT</td><td>7700</td><td>null</td><td>108</td><td>100</td></tr><tr><td>112</td><td>Jose Manuel</td><td>Urman</td><td>JMURMAN</td><td>515.124.4469</td><td>2098-03-07</td><td>FI_ACCOUNT</td><td>7800</td><td>null</td><td>108</td><td>100</td></tr><tr><td>122</td><td>Payam</td><td>Kaufling</td><td>PKAUFLIN</td><td>650.123.3234</td><td>2095-05-01</td><td>ST_MAN</td><td>7900</td><td>null</td><td>100</td><td>50</td></tr><tr><td>120</td><td>Matthew</td><td>Weiss</td><td>MWEISS</td><td>650.123.1234</td><td>2096-07-18</td><td>ST_MAN</td><td>8000</td><td>null</td><td>100</td><td>50</td></tr><tr><td>153</td><td>Christopher</td><td>Olsen</td><td>COLSEN</td><td>011.44.1344.498718</td><td>2098-03-30</td><td>SA_REP</td><td>8000</td><td>0.2</td><td>145</td><td>80</td></tr><tr><td>159</td><td>Lindsey</td><td>Smith</td><td>LSMITH</td><td>011.44.1345.729268</td><td>2097-03-10</td><td>SA_REP</td><td>8000</td><td>0.3</td><td>146</td><td>80</td></tr><tr><td>110</td><td>John</td><td>Chen</td><td>JCHEN</td><td>515.124.4269</td><td>2097-09-28</td><td>FI_ACCOUNT</td><td>8200</td><td>null</td><td>108</td><td>100</td></tr><tr><td>121</td><td>Adam</td><td>Fripp</td><td>AFRIPP</td><td>650.123.2234</td><td>2097-04-10</td><td>ST_MAN</td><td>8200</td><td>null</td><td>100</td><td>50</td></tr><tr><td>206</td><td>William</td><td>Gietz</td><td>WGIETZ</td><td>51hr5.123.8181</td><td>2094-06-07</td><td>AC_ACCOUNT</td><td>8300</td><td>null</td><td>205</td><td>110</td></tr><tr><td>177</td><td>Jack</td><td>Livingston</td><td>JLIVINGS</td><td>011.44.1644.429264</td><td>2098-04-23</td><td>SA_REP</td><td>8400</td><td>0.2</td><td>149</td><td>80</td></tr><tr><td>176</td><td>Jonathon</td><td>Taylor</td><td>JTAYLOR</td><td>011.44.1644.429265</td><td>2098-03-24</td><td>SA_REP</td><td>8600</td><td>0.2</td><td>149</td><td>80</td></tr><tr><td>175</td><td>Alyssa</td><td>Hutton</td><td>AHUTTON</td><td>011.44.1644.429266</td><td>2097-03-19</td><td>SA_REP</td><td>8800</td><td>0.25</td><td>149</td><td>80</td></tr><tr><td>103</td><td>Alexander</td><td>Hunold</td><td>AHUNOLD</td><td>590.423.4567</td><td>2090-01-03</td><td>IT_PROG</td><td>9000</td><td>null</td><td>102</td><td>60</td></tr><tr><td>109</td><td>Daniel</td><td>Faviet</td><td>DFAVIET</td><td>515.124.4169</td><td>2094-08-16</td><td>FI_ACCOUNT</td><td>9000</td><td>null</td><td>108</td><td>100</td></tr><tr><td>152</td><td>Peter</td><td>Hall</td><td>PHALL</td><td>011.44.1344.478968</td><td>2097-08-20</td><td>SA_REP</td><td>9000</td><td>0.25</td><td>145</td><td>80</td></tr><tr><td>158</td><td>Allan</td><td>McEwen</td><td>AMCEWEN</td><td>011.44.1345.829268</td><td>2096-08-01</td><td>SA_REP</td><td>9000</td><td>0.35</td><td>146</td><td>80</td></tr><tr><td>151</td><td>David</td><td>Bernstein</td><td>DBERNSTE</td><td>011.44.1344.345268</td><td>2097-03-24</td><td>SA_REP</td><td>9500</td><td>0.25</td><td>145</td><td>80</td></tr><tr><td>157</td><td>Patrick</td><td>Sully</td><td>PSULLY</td><td>011.44.1345.929268</td><td>2096-03-04</td><td>SA_REP</td><td>9500</td><td>0.35</td><td>146</td><td>80</td></tr><tr><td>163</td><td>Danielle</td><td>Greene</td><td>DGREENE</td><td>011.44.1346.229268</td><td>2099-03-19</td><td>SA_REP</td><td>9500</td><td>0.15</td><td>147</td><td>80</td></tr><tr><td>170</td><td>Tayler</td><td>Fox</td><td>TFOX</td><td>011.44.1343.729268</td><td>2098-01-24</td><td>SA_REP</td><td>9600</td><td>0.2</td><td>148</td><td>80</td></tr><tr><td>150</td><td>Peter</td><td>Tucker</td><td>PTUCKER</td><td>011.44.1344.129268</td><td>2097-01-30</td><td>SA_REP</td><td>10000</td><td>0.3</td><td>145</td><td>80</td></tr><tr><td>156</td><td>Janette</td><td>King</td><td>JKING</td><td>011.44.1345.429268</td><td>2096-01-30</td><td>SA_REP</td><td>10000</td><td>0.35</td><td>146</td><td>80</td></tr><tr><td>169</td><td>Harrison</td><td>Bloom</td><td>HBLOOM</td><td>011.44.1343.829268</td><td>2098-03-23</td><td>SA_REP</td><td>10000</td><td>0.2</td><td>148</td><td>80</td></tr><tr><td>204</td><td>Hermann</td><td>Baer</td><td>HBAER</td><td>515.123.8888</td><td>2094-06-07</td><td>PR_REP</td><td>10000</td><td>null</td><td>101</td><td>70</td></tr><tr><td>149</td><td>Eleni</td><td>Zlotkey</td><td>EZLOTKEY</td><td>011.44.1344.429018</td><td>2000-01-29</td><td>SA_MAN</td><td>10500</td><td>0.2</td><td>100</td><td>80</td></tr><tr><td>162</td><td>Clara</td><td>Vishney</td><td>CVISHNEY</td><td>011.44.1346.129268</td><td>2097-11-11</td><td>SA_REP</td><td>10500</td><td>0.25</td><td>147</td><td>80</td></tr><tr><td>114</td><td>Den</td><td>Raphaely</td><td>DRAPHEAL</td><td>515.127.4561</td><td>2094-12-07</td><td>PU_MAN</td><td>11000</td><td>null</td><td>100</td><td>30</td></tr><tr><td>148</td><td>Gerald</td><td>Cambrault</td><td>GCAMBRAU</td><td>011.44.1344.619268</td><td>2099-10-15</td><td>SA_MAN</td><td>11000</td><td>0.3</td><td>100</td><td>80</td></tr><tr><td>174</td><td>Ellen</td><td>Abel</td><td>EABEL</td><td>011.44.1644.429267</td><td>2096-05-11</td><td>SA_REP</td><td>11000</td><td>0.3</td><td>149</td><td>80</td></tr><tr><td>168</td><td>Lisa</td><td>Ozer</td><td>LOZER</td><td>011.44.1343.929268</td><td>2097-03-11</td><td>SA_REP</td><td>11500</td><td>0.25</td><td>148</td><td>80</td></tr><tr><td>108</td><td>Nancy</td><td>Greenberg</td><td>NGREENBE</td><td>515.124.4569</td><td>2094-08-17</td><td>FI_MGR</td><td>12000</td><td>null</td><td>101</td><td>100</td></tr><tr><td>147</td><td>Alberto</td><td>Errazuriz</td><td>AERRAZUR</td><td>011.44.1344.429278</td><td>2097-03-10</td><td>SA_MAN</td><td>12000</td><td>0.3</td><td>100</td><td>80</td></tr><tr><td>205</td><td>Shelley</td><td>Higgins</td><td>SHIGGINS</td><td>515.123.8080</td><td>2094-06-07</td><td>AC_MGR</td><td>12000</td><td>null</td><td>101</td><td>110</td></tr><tr><td>201</td><td>Michael</td><td>Hartstein</td><td>MHARTSTE</td><td>515.123.5555</td><td>2096-02-17</td><td>MK_MAN</td><td>13000</td><td>null</td><td>100</td><td>20</td></tr><tr><td>146</td><td>Karen</td><td>Partners</td><td>KPARTNER</td><td>011.44.1344.467268</td><td>2097-01-05</td><td>SA_MAN</td><td>13500</td><td>0.3</td><td>100</td><td>80</td></tr><tr><td>145</td><td>John</td><td>Russell</td><td>JRUSSEL</td><td>011.44.1344.429268</td><td>2096-10-01</td><td>SA_MAN</td><td>14000</td><td>0.4</td><td>100</td><td>80</td></tr><tr><td>101</td><td>Neena</td><td>Kochhar</td><td>NKOCHHAR</td><td>515.123.4568</td><td>2089-09-21</td><td>AD_VP</td><td>17000</td><td>null</td><td>100</td><td>90</td></tr><tr><td>102</td><td>Lex</td><td>De Haan</td><td>LDEHAAN</td><td>515.123.4569</td><td>2093-01-13</td><td>AD_VP</td><td>17000</td><td>null</td><td>100</td><td>90</td></tr><tr><td>100</td><td>Steven</td><td>King</td><td>SKING</td><td>515.123.4567</td><td>2087-06-17</td><td>AD_PRES</td><td>25000</td><td>null</td><td>null</td><td>90</td></tr></tbody></table></div>"
      ]
     },
     "metadata": {
      "application/vnd.databricks.v1+output": {
       "addedWidgets": {},
       "aggData": [],
       "aggError": "",
       "aggOverflow": false,
       "aggSchema": [],
       "aggSeriesLimitReached": false,
       "aggType": "",
       "arguments": {},
       "columnCustomDisplayInfos": {},
       "data": [
        [
         132,
         "TJ",
         "Olson",
         "TJOLSON",
         "650.124.8234",
         "2099-04-10",
         "ST_CLERK",
         2100,
         null,
         121,
         50
        ],
        [
         128,
         "Steven",
         "Markle",
         "SMARKLE",
         "650.124.1434",
         "2000-03-08",
         "ST_CLERK",
         2200,
         null,
         120,
         50
        ],
        [
         136,
         "Hazel",
         "Philtanker",
         "HPHILTAN",
         "650.127.1634",
         "2000-02-06",
         "ST_CLERK",
         2200,
         null,
         122,
         50
        ],
        [
         127,
         "James",
         "Landry",
         "JLANDRY",
         "650.124.1334",
         "2099-01-14",
         "ST_CLERK",
         2400,
         null,
         120,
         50
        ],
        [
         135,
         "Ki",
         "Gee",
         "KGEE",
         "650.127.1734",
         "2099-12-12",
         "ST_CLERK",
         2400,
         null,
         122,
         50
        ],
        [
         119,
         "Karen",
         "Colmenares",
         "KCOLMENA",
         "515.127.4566",
         "2099-08-10",
         "PU_CLERK",
         2500,
         null,
         114,
         30
        ],
        [
         131,
         "James",
         "Marlow",
         "JAMRLOW",
         "650.124.7234",
         "2097-02-16",
         "ST_CLERK",
         2500,
         null,
         121,
         50
        ],
        [
         140,
         "Joshua",
         "Patel",
         "JPATEL",
         "650.121.1834",
         "2098-04-06",
         "ST_CLERK",
         2500,
         null,
         123,
         50
        ],
        [
         144,
         "Peter",
         "Vargas",
         "PVARGAS",
         "650.121.2004",
         "2098-07-09",
         "ST_CLERK",
         2500,
         null,
         124,
         50
        ],
        [
         182,
         "Martha",
         "Sullivan",
         "MSULLIVA",
         "650.507.9878",
         "2099-06-21",
         "SH_CLERK",
         2500,
         null,
         120,
         50
        ],
        [
         191,
         "Randall",
         "Perkins",
         "RPERKINS",
         "650.505.4876",
         "2099-12-19",
         "SH_CLERK",
         2500,
         null,
         122,
         50
        ],
        [
         118,
         "Guy",
         "Himuro",
         "GHIMURO",
         "515.127.4565",
         "2098-11-15",
         "PU_CLERK",
         2600,
         null,
         114,
         30
        ],
        [
         143,
         "Randall",
         "Matos",
         "RMATOS",
         "650.121.2874",
         "2098-03-15",
         "ST_CLERK",
         2600,
         null,
         124,
         50
        ],
        [
         198,
         "Donald",
         "OConnell",
         "DOCONNEL",
         "650.507.9833",
         "2099-06-21",
         "SH_CLERK",
         2600,
         null,
         124,
         50
        ],
        [
         199,
         "Douglas",
         "Grant",
         "DGRANT",
         "650.507.9844",
         "2000-01-13",
         "SH_CLERK",
         2600,
         null,
         124,
         50
        ],
        [
         126,
         "Irene",
         "Mikkilineni",
         "IMIKKILI",
         "650.124.1224",
         "2098-09-28",
         "ST_CLERK",
         2700,
         null,
         120,
         50
        ],
        [
         139,
         "John",
         "Seo",
         "JSEO",
         "650.121.2019",
         "2098-02-12",
         "ST_CLERK",
         2700,
         null,
         123,
         50
        ],
        [
         117,
         "Sigal",
         "Tobias",
         "STOBIAS",
         "515.127.4564",
         "2097-07-24",
         "PU_CLERK",
         2800,
         null,
         114,
         30
        ],
        [
         130,
         "Mozhe",
         "Atkinson",
         "MATKINSO",
         "650.124.6234",
         "2097-10-30",
         "ST_CLERK",
         2800,
         null,
         121,
         50
        ],
        [
         183,
         "Girard",
         "Geoni",
         "GGEONI",
         "650.507.9879",
         "2000-02-03",
         "SH_CLERK",
         2800,
         null,
         120,
         50
        ],
        [
         195,
         "Vance",
         "Jones",
         "VJONES",
         "650.501.4876",
         "2099-03-17",
         "SH_CLERK",
         2800,
         null,
         123,
         50
        ],
        [
         116,
         "Shelli",
         "Baida",
         "SBAIDA",
         "515.127.4563",
         "2097-12-24",
         "PU_CLERK",
         2900,
         null,
         114,
         30
        ],
        [
         134,
         "Michael",
         "Rogers",
         "MROGERS",
         "650.127.1834",
         "2098-08-26",
         "ST_CLERK",
         2900,
         null,
         122,
         50
        ],
        [
         190,
         "Timothy",
         "Gates",
         "TGATES",
         "650.505.3876",
         "2098-07-11",
         "SH_CLERK",
         2900,
         null,
         122,
         50
        ],
        [
         187,
         "Anthony",
         "Cabrio",
         "ACABRIO",
         "650.509.4876",
         "2099-02-07",
         "SH_CLERK",
         3000,
         null,
         121,
         50
        ],
        [
         197,
         "Kevin",
         "Feeney",
         "KFEENEY",
         "650.507.9822",
         "2098-05-23",
         "SH_CLERK",
         3000,
         null,
         124,
         50
        ],
        [
         115,
         "Alexander",
         "Khoo",
         "AKHOO",
         "515.127.4562",
         "2095-05-18",
         "PU_CLERK",
         3100,
         null,
         114,
         30
        ],
        [
         142,
         "Curtis",
         "Davies",
         "CDAVIES",
         "650.121.2994",
         "2097-01-29",
         "ST_CLERK",
         3100,
         null,
         124,
         50
        ],
        [
         181,
         "Jean",
         "Fleaur",
         "JFLEAUR",
         "650.507.9877",
         "2098-02-23",
         "SH_CLERK",
         3100,
         null,
         120,
         50
        ],
        [
         196,
         "Alana",
         "Walsh",
         "AWALSH",
         "650.507.9811",
         "2098-04-24",
         "SH_CLERK",
         3100,
         null,
         124,
         50
        ],
        [
         125,
         "Julia",
         "Nayer",
         "JNAYER",
         "650.124.1214",
         "2097-07-16",
         "ST_CLERK",
         3200,
         null,
         120,
         50
        ],
        [
         138,
         "Stephen",
         "Stiles",
         "SSTILES",
         "650.121.2034",
         "2097-10-26",
         "ST_CLERK",
         3200,
         null,
         123,
         50
        ],
        [
         180,
         "Winston",
         "Taylor",
         "WTAYLOR",
         "650.507.9876",
         "2098-01-24",
         "SH_CLERK",
         3200,
         null,
         120,
         50
        ],
        [
         194,
         "Samuel",
         "McCain",
         "SMCCAIN",
         "650.501.3876",
         "2098-07-01",
         "SH_CLERK",
         3200,
         null,
         123,
         50
        ],
        [
         129,
         "Laura",
         "Bissot",
         "LBISSOT",
         "650.124.5234",
         "2097-08-20",
         "ST_CLERK",
         3300,
         null,
         121,
         50
        ],
        [
         133,
         "Jason",
         "Mallin",
         "JMALLIN",
         "650.127.1934",
         "2096-06-14",
         "ST_CLERK",
         3300,
         null,
         122,
         50
        ],
        [
         186,
         "Julia",
         "Dellinger",
         "JDELLING",
         "650.509.3876",
         "2098-06-24",
         "SH_CLERK",
         3400,
         null,
         121,
         50
        ],
        [
         141,
         "Trenna",
         "Rajs",
         "TRAJS",
         "650.121.8009",
         "2095-10-17",
         "ST_CLERK",
         3500,
         null,
         124,
         50
        ],
        [
         137,
         "Renske",
         "Ladwig",
         "RLADWIG",
         "650.121.1234",
         "2095-07-14",
         "ST_CLERK",
         3600,
         null,
         123,
         50
        ],
        [
         189,
         "Jennifer",
         "Dilly",
         "JDILLY",
         "650.505.2876",
         "2097-08-13",
         "SH_CLERK",
         3600,
         null,
         122,
         50
        ],
        [
         188,
         "Kelly",
         "Chung",
         "KCHUNG",
         "650.505.1876",
         "2097-06-14",
         "SH_CLERK",
         3800,
         null,
         122,
         50
        ],
        [
         193,
         "Britney",
         "Everett",
         "BEVERETT",
         "650.501.2876",
         "2097-03-03",
         "SH_CLERK",
         3900,
         null,
         123,
         50
        ],
        [
         192,
         "Sarah",
         "Bell",
         "SBELL",
         "650.501.1876",
         "2096-02-04",
         "SH_CLERK",
         4000,
         null,
         123,
         50
        ],
        [
         185,
         "Alexis",
         "Bull",
         "ABULL",
         "650.509.2876",
         "2097-02-20",
         "SH_CLERK",
         4100,
         null,
         121,
         50
        ],
        [
         107,
         "Diana",
         "Lorentz",
         "DLORENTZ",
         "590.423.5567",
         "2099-02-07",
         "IT_PROG",
         4200,
         null,
         103,
         60
        ],
        [
         184,
         "Nandita",
         "Sarchand",
         "NSARCHAN",
         "650.509.1876",
         "2096-01-27",
         "SH_CLERK",
         4200,
         null,
         121,
         50
        ],
        [
         200,
         "Jennifer",
         "Whalen",
         "JWHALEN",
         "515.123.4444",
         "2087-09-17",
         "AD_ASST",
         4400,
         null,
         101,
         10
        ],
        [
         105,
         "David",
         "Austin",
         "DAUSTIN",
         "590.423.4569",
         "2097-06-25",
         "IT_PROG",
         4800,
         null,
         103,
         60
        ],
        [
         106,
         "Valli",
         "Pataballa",
         "VPATABAL",
         "590.423.4560",
         "2098-02-05",
         "IT_PROG",
         4800,
         null,
         103,
         60
        ],
        [
         124,
         "Kevin",
         "Mourgos",
         "KMOURGOS",
         "650.123.5234",
         "2099-11-16",
         "ST_MAN",
         5800,
         null,
         100,
         50
        ],
        [
         104,
         "Bruce",
         "Ernst",
         "BERNST",
         "590.423.4568",
         "2091-05-21",
         "IT_PROG",
         6000,
         null,
         103,
         60
        ],
        [
         202,
         "Pat",
         "Fay",
         "PFAY",
         "603.123.6666",
         "2097-08-17",
         "MK_REP",
         6000,
         null,
         201,
         20
        ],
        [
         173,
         "Sundita",
         "Kumar",
         "SKUMAR",
         "011.44.1343.329268",
         "2000-04-21",
         "SA_REP",
         6100,
         0.1,
         148,
         80
        ],
        [
         167,
         "Amit",
         "Banda",
         "ABANDA",
         "011.44.1346.729268",
         "2000-04-21",
         "SA_REP",
         6200,
         0.1,
         147,
         80
        ],
        [
         179,
         "Charles",
         "Johnson",
         "CJOHNSON",
         "011.44.1644.429262",
         "2000-01-04",
         "SA_REP",
         6200,
         0.1,
         149,
         80
        ],
        [
         166,
         "Sundar",
         "Ande",
         "SANDE",
         "011.44.1346.629268",
         "2000-03-24",
         "SA_REP",
         6400,
         0.1,
         147,
         80
        ],
        [
         123,
         "Shanta",
         "Vollman",
         "SVOLLMAN",
         "650.123.4234",
         "2097-10-10",
         "ST_MAN",
         6500,
         null,
         100,
         50
        ],
        [
         203,
         "Susan",
         "Mavris",
         "SMAVRIS",
         "515.123.7777",
         "2094-06-07",
         "HR_REP",
         6500,
         null,
         101,
         40
        ],
        [
         165,
         "David",
         "Lee",
         "DLEE",
         "011.44.1346.529268",
         "2000-02-23",
         "SA_REP",
         6800,
         0.1,
         147,
         80
        ],
        [
         113,
         "Luis",
         "Popp",
         "LPOPP",
         "515.124.4567",
         "2099-12-07",
         "FI_ACCOUNT",
         6900,
         null,
         108,
         100
        ],
        [
         155,
         "Oliver",
         "Tuvault",
         "OTUVAULT",
         "011.44.1344.486508",
         "2099-11-23",
         "SA_REP",
         7000,
         0.15,
         145,
         80
        ],
        [
         161,
         "Sarath",
         "Sewall",
         "SSEWALL",
         "011.44.1345.529268",
         "2098-11-03",
         "SA_REP",
         7000,
         0.25,
         146,
         80
        ],
        [
         178,
         "Kimberely",
         "Grant",
         "KGRANT",
         "011.44.1644.429263",
         "2099-05-24",
         "SA_REP",
         7000,
         0.15,
         149,
         null
        ],
        [
         164,
         "Mattea",
         "Marvins",
         "MMARVINS",
         "011.44.1346.329268",
         "2000-01-24",
         "SA_REP",
         7200,
         0.1,
         147,
         80
        ],
        [
         172,
         "Elizabeth",
         "Bates",
         "EBATES",
         "011.44.1343.529268",
         "2099-03-24",
         "SA_REP",
         7300,
         0.15,
         148,
         80
        ],
        [
         171,
         "William",
         "Smith",
         "WSMITH",
         "011.44.1343.629268",
         "2099-02-23",
         "SA_REP",
         7400,
         0.15,
         148,
         80
        ],
        [
         154,
         "Nanette",
         "Cambrault",
         "NCAMBRAU",
         "011.44.1344.987668",
         "2098-12-09",
         "SA_REP",
         7500,
         0.2,
         145,
         80
        ],
        [
         160,
         "Louise",
         "Doran",
         "LDORAN",
         "011.44.1345.629268",
         "2097-12-15",
         "SA_REP",
         7500,
         0.3,
         146,
         80
        ],
        [
         111,
         "Ismael",
         "Sciarra",
         "ISCIARRA",
         "515.124.4369",
         "2097-09-30",
         "FI_ACCOUNT",
         7700,
         null,
         108,
         100
        ],
        [
         112,
         "Jose Manuel",
         "Urman",
         "JMURMAN",
         "515.124.4469",
         "2098-03-07",
         "FI_ACCOUNT",
         7800,
         null,
         108,
         100
        ],
        [
         122,
         "Payam",
         "Kaufling",
         "PKAUFLIN",
         "650.123.3234",
         "2095-05-01",
         "ST_MAN",
         7900,
         null,
         100,
         50
        ],
        [
         120,
         "Matthew",
         "Weiss",
         "MWEISS",
         "650.123.1234",
         "2096-07-18",
         "ST_MAN",
         8000,
         null,
         100,
         50
        ],
        [
         153,
         "Christopher",
         "Olsen",
         "COLSEN",
         "011.44.1344.498718",
         "2098-03-30",
         "SA_REP",
         8000,
         0.2,
         145,
         80
        ],
        [
         159,
         "Lindsey",
         "Smith",
         "LSMITH",
         "011.44.1345.729268",
         "2097-03-10",
         "SA_REP",
         8000,
         0.3,
         146,
         80
        ],
        [
         110,
         "John",
         "Chen",
         "JCHEN",
         "515.124.4269",
         "2097-09-28",
         "FI_ACCOUNT",
         8200,
         null,
         108,
         100
        ],
        [
         121,
         "Adam",
         "Fripp",
         "AFRIPP",
         "650.123.2234",
         "2097-04-10",
         "ST_MAN",
         8200,
         null,
         100,
         50
        ],
        [
         206,
         "William",
         "Gietz",
         "WGIETZ",
         "51hr5.123.8181",
         "2094-06-07",
         "AC_ACCOUNT",
         8300,
         null,
         205,
         110
        ],
        [
         177,
         "Jack",
         "Livingston",
         "JLIVINGS",
         "011.44.1644.429264",
         "2098-04-23",
         "SA_REP",
         8400,
         0.2,
         149,
         80
        ],
        [
         176,
         "Jonathon",
         "Taylor",
         "JTAYLOR",
         "011.44.1644.429265",
         "2098-03-24",
         "SA_REP",
         8600,
         0.2,
         149,
         80
        ],
        [
         175,
         "Alyssa",
         "Hutton",
         "AHUTTON",
         "011.44.1644.429266",
         "2097-03-19",
         "SA_REP",
         8800,
         0.25,
         149,
         80
        ],
        [
         103,
         "Alexander",
         "Hunold",
         "AHUNOLD",
         "590.423.4567",
         "2090-01-03",
         "IT_PROG",
         9000,
         null,
         102,
         60
        ],
        [
         109,
         "Daniel",
         "Faviet",
         "DFAVIET",
         "515.124.4169",
         "2094-08-16",
         "FI_ACCOUNT",
         9000,
         null,
         108,
         100
        ],
        [
         152,
         "Peter",
         "Hall",
         "PHALL",
         "011.44.1344.478968",
         "2097-08-20",
         "SA_REP",
         9000,
         0.25,
         145,
         80
        ],
        [
         158,
         "Allan",
         "McEwen",
         "AMCEWEN",
         "011.44.1345.829268",
         "2096-08-01",
         "SA_REP",
         9000,
         0.35,
         146,
         80
        ],
        [
         151,
         "David",
         "Bernstein",
         "DBERNSTE",
         "011.44.1344.345268",
         "2097-03-24",
         "SA_REP",
         9500,
         0.25,
         145,
         80
        ],
        [
         157,
         "Patrick",
         "Sully",
         "PSULLY",
         "011.44.1345.929268",
         "2096-03-04",
         "SA_REP",
         9500,
         0.35,
         146,
         80
        ],
        [
         163,
         "Danielle",
         "Greene",
         "DGREENE",
         "011.44.1346.229268",
         "2099-03-19",
         "SA_REP",
         9500,
         0.15,
         147,
         80
        ],
        [
         170,
         "Tayler",
         "Fox",
         "TFOX",
         "011.44.1343.729268",
         "2098-01-24",
         "SA_REP",
         9600,
         0.2,
         148,
         80
        ],
        [
         150,
         "Peter",
         "Tucker",
         "PTUCKER",
         "011.44.1344.129268",
         "2097-01-30",
         "SA_REP",
         10000,
         0.3,
         145,
         80
        ],
        [
         156,
         "Janette",
         "King",
         "JKING",
         "011.44.1345.429268",
         "2096-01-30",
         "SA_REP",
         10000,
         0.35,
         146,
         80
        ],
        [
         169,
         "Harrison",
         "Bloom",
         "HBLOOM",
         "011.44.1343.829268",
         "2098-03-23",
         "SA_REP",
         10000,
         0.2,
         148,
         80
        ],
        [
         204,
         "Hermann",
         "Baer",
         "HBAER",
         "515.123.8888",
         "2094-06-07",
         "PR_REP",
         10000,
         null,
         101,
         70
        ],
        [
         149,
         "Eleni",
         "Zlotkey",
         "EZLOTKEY",
         "011.44.1344.429018",
         "2000-01-29",
         "SA_MAN",
         10500,
         0.2,
         100,
         80
        ],
        [
         162,
         "Clara",
         "Vishney",
         "CVISHNEY",
         "011.44.1346.129268",
         "2097-11-11",
         "SA_REP",
         10500,
         0.25,
         147,
         80
        ],
        [
         114,
         "Den",
         "Raphaely",
         "DRAPHEAL",
         "515.127.4561",
         "2094-12-07",
         "PU_MAN",
         11000,
         null,
         100,
         30
        ],
        [
         148,
         "Gerald",
         "Cambrault",
         "GCAMBRAU",
         "011.44.1344.619268",
         "2099-10-15",
         "SA_MAN",
         11000,
         0.3,
         100,
         80
        ],
        [
         174,
         "Ellen",
         "Abel",
         "EABEL",
         "011.44.1644.429267",
         "2096-05-11",
         "SA_REP",
         11000,
         0.3,
         149,
         80
        ],
        [
         168,
         "Lisa",
         "Ozer",
         "LOZER",
         "011.44.1343.929268",
         "2097-03-11",
         "SA_REP",
         11500,
         0.25,
         148,
         80
        ],
        [
         108,
         "Nancy",
         "Greenberg",
         "NGREENBE",
         "515.124.4569",
         "2094-08-17",
         "FI_MGR",
         12000,
         null,
         101,
         100
        ],
        [
         147,
         "Alberto",
         "Errazuriz",
         "AERRAZUR",
         "011.44.1344.429278",
         "2097-03-10",
         "SA_MAN",
         12000,
         0.3,
         100,
         80
        ],
        [
         205,
         "Shelley",
         "Higgins",
         "SHIGGINS",
         "515.123.8080",
         "2094-06-07",
         "AC_MGR",
         12000,
         null,
         101,
         110
        ],
        [
         201,
         "Michael",
         "Hartstein",
         "MHARTSTE",
         "515.123.5555",
         "2096-02-17",
         "MK_MAN",
         13000,
         null,
         100,
         20
        ],
        [
         146,
         "Karen",
         "Partners",
         "KPARTNER",
         "011.44.1344.467268",
         "2097-01-05",
         "SA_MAN",
         13500,
         0.3,
         100,
         80
        ],
        [
         145,
         "John",
         "Russell",
         "JRUSSEL",
         "011.44.1344.429268",
         "2096-10-01",
         "SA_MAN",
         14000,
         0.4,
         100,
         80
        ],
        [
         101,
         "Neena",
         "Kochhar",
         "NKOCHHAR",
         "515.123.4568",
         "2089-09-21",
         "AD_VP",
         17000,
         null,
         100,
         90
        ],
        [
         102,
         "Lex",
         "De Haan",
         "LDEHAAN",
         "515.123.4569",
         "2093-01-13",
         "AD_VP",
         17000,
         null,
         100,
         90
        ],
        [
         100,
         "Steven",
         "King",
         "SKING",
         "515.123.4567",
         "2087-06-17",
         "AD_PRES",
         25000,
         null,
         null,
         90
        ]
       ],
       "datasetInfos": [],
       "dbfsResultPath": null,
       "isJsonSchema": true,
       "metadata": {},
       "overflow": false,
       "plotOptions": {
        "customPlotOptions": {},
        "displayType": "table",
        "pivotAggregation": null,
        "pivotColumns": null,
        "xColumns": null,
        "yColumns": null
       },
       "removedWidgets": [],
       "schema": [
        {
         "metadata": "{}",
         "name": "employee_id",
         "type": "\"integer\""
        },
        {
         "metadata": "{}",
         "name": "first_name",
         "type": "\"string\""
        },
        {
         "metadata": "{}",
         "name": "last_name",
         "type": "\"string\""
        },
        {
         "metadata": "{}",
         "name": "email",
         "type": "\"string\""
        },
        {
         "metadata": "{}",
         "name": "phone_number",
         "type": "\"string\""
        },
        {
         "metadata": "{\"__detected_date_formats\":\"d/M/yy\"}",
         "name": "hire_date",
         "type": "\"date\""
        },
        {
         "metadata": "{}",
         "name": "job_id",
         "type": "\"string\""
        },
        {
         "metadata": "{}",
         "name": "salary",
         "type": "\"integer\""
        },
        {
         "metadata": "{}",
         "name": "commission_pct",
         "type": "\"double\""
        },
        {
         "metadata": "{}",
         "name": "manager_id",
         "type": "\"integer\""
        },
        {
         "metadata": "{}",
         "name": "department_id",
         "type": "\"integer\""
        }
       ],
       "type": "table"
      }
     },
     "output_type": "display_data"
    }
   ],
   "source": [
    "df_csv.sort(['salary'],assending=[1]).display()"
   ]
  },
  {
   "cell_type": "code",
   "execution_count": 0,
   "metadata": {
    "application/vnd.databricks.v1+cell": {
     "cellMetadata": {
      "byteLimit": 2048000,
      "rowLimit": 10000
     },
     "inputWidgets": {},
     "nuid": "f8d7ac23-e817-4ec9-8c86-f141167643bd",
     "showTitle": false,
     "tableResultSettingsMap": {},
     "title": ""
    }
   },
   "outputs": [
    {
     "output_type": "stream",
     "name": "stdout",
     "output_type": "stream",
     "text": [
      "root\n |-- employee_id: string (nullable = true)\n |-- first_name: string (nullable = true)\n |-- last_name: string (nullable = true)\n |-- email: string (nullable = true)\n |-- phone_number: string (nullable = true)\n |-- hire_date: date (nullable = true)\n |-- job_id: string (nullable = true)\n |-- salary: integer (nullable = true)\n |-- commission_pct: double (nullable = true)\n |-- manager_id: integer (nullable = true)\n |-- department_id: integer (nullable = true)\n\n"
     ]
    }
   ],
   "source": [
    "n.printSchema()"
   ]
  },
  {
   "cell_type": "markdown",
   "metadata": {
    "application/vnd.databricks.v1+cell": {
     "cellMetadata": {},
     "inputWidgets": {},
     "nuid": "b62b307c-8772-491e-972e-4b37188ad3b3",
     "showTitle": false,
     "tableResultSettingsMap": {},
     "title": ""
    }
   },
   "source": [
    "## StructType() Schema"
   ]
  },
  {
   "cell_type": "code",
   "execution_count": 0,
   "metadata": {
    "application/vnd.databricks.v1+cell": {
     "cellMetadata": {
      "byteLimit": 2048000,
      "rowLimit": 10000
     },
     "inputWidgets": {},
     "nuid": "b2203004-7103-45a6-84c1-0fc080f82949",
     "showTitle": false,
     "tableResultSettingsMap": {},
     "title": ""
    }
   },
   "outputs": [],
   "source": [
    "from pyspark.sql.types import *\n",
    "from pyspark.sql.functions import *"
   ]
  },
  {
   "cell_type": "markdown",
   "metadata": {
    "application/vnd.databricks.v1+cell": {
     "cellMetadata": {},
     "inputWidgets": {},
     "nuid": "445ff3d7-a9ed-48b5-8e2d-0bad71b8ac36",
     "showTitle": false,
     "tableResultSettingsMap": {},
     "title": ""
    }
   },
   "source": []
  }
 ],
 "metadata": {
  "application/vnd.databricks.v1+notebook": {
   "computePreferences": null,
   "dashboards": [],
   "environmentMetadata": {
    "base_environment": "",
    "client": "1"
   },
   "language": "python",
   "notebookMetadata": {
    "mostRecentlyExecutedCommandWithImplicitDF": {
     "commandId": -1,
     "dataframes": [
      "_sqldf"
     ]
    },
    "pythonIndentUnit": 4
   },
   "notebookName": "pyspark_basics",
   "widgets": {}
  }
 },
 "nbformat": 4,
 "nbformat_minor": 0
}
